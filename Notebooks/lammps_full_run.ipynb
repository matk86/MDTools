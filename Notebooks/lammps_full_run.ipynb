{
 "cells": [
  {
   "cell_type": "markdown",
   "metadata": {},
   "source": [
    "This notebook does the following:\n",
    "\n",
    "    Generate random walk polymer chain\n",
    "    Generate polymer matrix using packmol\n",
    "    Compute the system topology and read in the force field data\n",
    "    Run LAMMPS\n",
    "\n",
    "Dependencies:\n",
    "\n",
    "    pymatgen(latest development version from github or atleast v3.7.1)\n",
    "    packmol(https://github.com/leandromartinez98/packmol)\n",
    "    LAMMPS(http://lammps.sandia.gov)\n",
    "\n",
    "Required input files:\n",
    "\n",
    "    Structures of start, bulk and terminal monomer molecules\n",
    "    Appropriately formatted yaml forcefield data file\n",
    "    json input template file"
   ]
  },
  {
   "cell_type": "code",
   "execution_count": 1,
   "metadata": {
    "collapsed": false
   },
   "outputs": [],
   "source": [
    "import numpy as np\n",
    "\n",
    "from pprint import pprint\n",
    "\n",
    "from pymatgen import Molecule\n",
    "from pymatgen.io.babel import BabelMolAdaptor\n",
    "from pymatgen.io.lammps.utils import Polymer, PackmolRunner, LammpsRunner"
   ]
  },
  {
   "cell_type": "markdown",
   "metadata": {},
   "source": [
    "# Set the start, bulk, and terminal molecules. \n",
    "\n",
    "Set charges and optionally the forcefield species name mapping "
   ]
  },
  {
   "cell_type": "code",
   "execution_count": 2,
   "metadata": {
    "collapsed": false
   },
   "outputs": [],
   "source": [
    "# start molecule\n",
    "peo_start = Molecule.from_file(\"test_files/peo_start.xyz\")\n",
    "s_charges = [-0.1187, 0.0861, 0.0861, 0.0861, -0.2792, -0.0326, 0.0861, 0.0861]\n",
    "peo_start.add_site_property(\"charge\", s_charges)\n",
    "s_head = 0\n",
    "s_tail = 5\n",
    "\n",
    "# chain molecule\n",
    "peo_bulk = Molecule.from_file(\"test_files/peo_bulk.xyz\")\n",
    "b_charges = [-0.0326, 0.0861, 0.0861, -0.2792, -0.0326, 0.0861, 0.0861]\n",
    "peo_bulk.add_site_property(\"charge\", b_charges)\n",
    "head = 0\n",
    "tail = 4\n",
    "\n",
    "# terminal molecule\n",
    "peo_end = Molecule.from_file(\"test_files/peo_end.xyz\")\n",
    "e_charges = [-0.0326, 0.0861, 0.0861, -0.2792, -0.1187, 0.0861, 0.0861, 0.0861]\n",
    "peo_end.add_site_property(\"charge\", e_charges)\n",
    "e_head = 0\n",
    "e_tail = 4"
   ]
  },
  {
   "cell_type": "markdown",
   "metadata": {},
   "source": [
    "# Create polymer via random walk"
   ]
  },
  {
   "cell_type": "code",
   "execution_count": 3,
   "metadata": {
    "collapsed": false
   },
   "outputs": [],
   "source": [
    "n_units = 58\n",
    "link_distance = 1.5075\n",
    "\n",
    "# create the polymer\n",
    "peo_polymer = Polymer(peo_start, s_head, s_tail, \n",
    "                      peo_bulk, head, tail, \n",
    "                      peo_end, e_head, e_tail, \n",
    "                      n_units, link_distance)\n",
    "\n",
    "# linear chain\n",
    "peo_polymer_linear = Polymer(peo_start, s_head, s_tail, \n",
    "                             peo_bulk, head, tail, \n",
    "                             peo_end, e_head, e_tail, \n",
    "                             n_units, link_distance, linear_chain=True)"
   ]
  },
  {
   "cell_type": "markdown",
   "metadata": {},
   "source": [
    "# Set the topology of the polymer from the linear chain"
   ]
  },
  {
   "cell_type": "code",
   "execution_count": 4,
   "metadata": {
    "collapsed": false
   },
   "outputs": [
    {
     "name": "stdout",
     "output_type": "stream",
     "text": [
      "(408, 407, 754, 861)\n"
     ]
    }
   ],
   "source": [
    "from pymatgen.io.lammps.topology import Topology\n",
    "\n",
    "topology = Topology.from_molecule(peo_polymer_linear.molecule)\n",
    "\n",
    "natoms, nbonds, nangles, ndih =  len(topology.atoms), len(topology.bonds), len(topology.angles), len(topology.dihedrals)\n",
    "\n",
    "print(natoms, nbonds, nangles, ndih)"
   ]
  },
  {
   "cell_type": "markdown",
   "metadata": {},
   "source": [
    "# Generate polymer matrix"
   ]
  },
  {
   "cell_type": "code",
   "execution_count": 5,
   "metadata": {
    "collapsed": false
   },
   "outputs": [],
   "source": [
    "# constituent molecules\n",
    "molecules = [peo_polymer.molecule]\n",
    "#Polymer matrix settings\n",
    "matrix_config = [{\"number\": 1, \"inside box\":[0,0,0,100,100,100]}]"
   ]
  },
  {
   "cell_type": "markdown",
   "metadata": {},
   "source": [
    "# Use Packmol to pack the polymer chains into a box"
   ]
  },
  {
   "cell_type": "code",
   "execution_count": 6,
   "metadata": {
    "collapsed": false
   },
   "outputs": [
    {
     "name": "stdout",
     "output_type": "stream",
     "text": [
      "packed molecule written to poly_packed.xyz\n"
     ]
    }
   ],
   "source": [
    "pmr = PackmolRunner(molecules,\n",
    "                    matrix_config,\n",
    "                    tolerance=2.0,\n",
    "                    filetype=\"xyz\",\n",
    "                    control_params={\"nloop\": 1000},\n",
    "                    output_file=\"poly_packed.xyz\")\n",
    "packed_polymer = pmr.run()"
   ]
  },
  {
   "cell_type": "markdown",
   "metadata": {},
   "source": [
    "# Read in the force field parameters"
   ]
  },
  {
   "cell_type": "code",
   "execution_count": 7,
   "metadata": {
    "collapsed": false
   },
   "outputs": [],
   "source": [
    "from pymatgen.io.lammps.force_field import ForceField\n",
    "\n",
    "forcefield = ForceField.from_file(\"ff_data.yaml\")"
   ]
  },
  {
   "cell_type": "markdown",
   "metadata": {},
   "source": [
    "# Generate lammps data file from the topology and the forcefield"
   ]
  },
  {
   "cell_type": "code",
   "execution_count": 8,
   "metadata": {
    "collapsed": false
   },
   "outputs": [],
   "source": [
    "from pymatgen.io.lammps.data import LammpsForceFieldData\n",
    "\n",
    "mols_number = [mol_config[\"number\"] for mol_config in matrix_config]\n",
    "box_size = [[0.0, 100], \n",
    "            [0.0, 100], \n",
    "            [0.0, 100]]\n",
    "\n",
    "# list of molecular topologies for each constituent molecules\n",
    "topologies = [topology]*len(molecules)\n",
    "\n",
    "lammps_ff_data = LammpsForceFieldData.from_forcefield_and_topology(molecules, mols_number, \n",
    "                                                                   box_size, packed_polymer, \n",
    "                                                                   forcefield, topologies)\n",
    "#write the data file\n",
    "#lammps_ff_data.write_data_file(\"lammps_data.dat\")"
   ]
  },
  {
   "cell_type": "markdown",
   "metadata": {},
   "source": [
    "# Setup input file"
   ]
  },
  {
   "cell_type": "code",
   "execution_count": 9,
   "metadata": {
    "collapsed": false
   },
   "outputs": [
    {
     "name": "stdout",
     "output_type": "stream",
     "text": [
      "units  real\n",
      "dimension  3\n",
      "atom_style  full\n",
      "boundary  p p p\n",
      "neighbor  10.0 bin\n",
      "bond_style  harmonic\n",
      "angle_style  harmonic\n",
      "dihedral_style  opls\n",
      "read_data  peo_chain.data\n",
      "pair_style  buck/coul/cut 15.0\n",
      "pair_coeff 1 1 2649.6 0.2674 27.22\n",
      "pair_coeff 1 2 4320.0 0.2928 137.6\n",
      "pair_coeff 1 3 14176.0 0.2563 104.0\n",
      "pair_coeff 2 2 14976.0 0.3236 637.6\n",
      "pair_coeff 2 3 33702.4 0.2796 503.0\n",
      "pair_coeff 3 3 75844.8 0.2461 396.9\n",
      "dump DUMP all custom 200 poly.lammps.dump id type x y z ix iy iz mol\n",
      "dump traj all dcd 100 lammps_traj.dcd\n",
      "thermo_style  custom step temp press etotal fmax fnorm\n",
      "thermo  100\n",
      "fix  NPT all npt temp 298 298 100.0 iso 0.0 0.0 100.0\n",
      "run  1000\n",
      "\n"
     ]
    }
   ],
   "source": [
    "from pymatgen.io.lammps.input import DictLammpsInput\n",
    "\n",
    "input_filename = \"peo.in\"\n",
    "data_filename = \"peo_chain.data\"\n",
    "job_name = \"NPT\"\n",
    "input_template_file = \"NPT.json\"\n",
    "\n",
    "#override default settings read from the json file with these\n",
    "user_settings = {\"pair_style\": \"buck/coul/cut 15.0\", \n",
    "                 \"pair_coeff\": [\"1 1 2649.6 0.2674 27.22\",\n",
    "                                \"1 2 4320.0 0.2928 137.6\",\n",
    "                                \"1 3 14176.0 0.2563 104.0\",\n",
    "                                \"2 2 14976.0 0.3236 637.6\",\n",
    "                                \"2 3 33702.4 0.2796 503.0\",\n",
    "                                \"3 3 75844.8 0.2461 396.9\"],\n",
    "                  \"dump\": [\"DUMP all custom 200 poly.lammps.dump id type x y z ix iy iz mol\",\n",
    "                           \"traj all dcd 100 lammps_traj.dcd\"]}\n",
    "\n",
    "lammps_input = DictLammpsInput.from_file(job_name, input_template_file, \n",
    "                                         lammps_data=lammps_ff_data, \n",
    "                                         data_filename=data_filename, \n",
    "                                         user_lammps_settings=user_settings)\n",
    "print str(lammps_input)"
   ]
  },
  {
   "cell_type": "markdown",
   "metadata": {},
   "source": [
    "# Run Lammps"
   ]
  },
  {
   "cell_type": "code",
   "execution_count": 10,
   "metadata": {
    "collapsed": false
   },
   "outputs": [
    {
     "name": "stdout",
     "output_type": "stream",
     "text": [
      "Data file: peo_chain.data\n",
      "Input file: peo.in\n",
      "Running: lmp_serial -in peo.in\n",
      "Done\n",
      "LAMMPS (18 Jun 2016)\n",
      "Reading data file ...\n",
      "  orthogonal box = (0 0 0) to (100 100 100)\n",
      "  1 by 1 by 1 MPI processor grid\n",
      "  reading atoms ...\n",
      "  408 atoms\n",
      "  scanning bonds ...\n",
      "  4 = max bonds/atom\n",
      "  scanning angles ...\n",
      "  6 = max angles/atom\n",
      "  scanning dihedrals ...\n",
      "  9 = max dihedrals/atom\n",
      "  reading bonds ...\n",
      "  407 bonds\n",
      "  reading angles ...\n",
      "  754 angles\n",
      "  reading dihedrals ...\n",
      "  861 dihedrals\n",
      "Finding 1-2 1-3 1-4 neighbors ...\n",
      " Special bond factors lj:   0          0          0         \n",
      " Special bond factors coul: 0          0          0         \n",
      "  4 = max # of 1-2 neighbors\n",
      "  6 = max # of 1-3 neighbors\n",
      "  12 = max # of 1-4 neighbors\n",
      "  14 = max # of special neighbors\n",
      "Neighbor list info ...\n",
      "  1 neighbor list requests\n",
      "  update every 1 steps, delay 10 steps, check yes\n",
      "  max neighbors/atom: 2000, page size: 100000\n",
      "  master list distance cutoff = 25\n",
      "  ghost atom cutoff = 25\n",
      "  binsize = 12.5, bins = 8 8 8\n",
      "Setting up Verlet run ...\n",
      "  Unit style    : real\n",
      "  Current step  : 0\n",
      "  Time step     : 1\n",
      "Memory usage per processor = 12.3005 Mbytes\n",
      "Step Temp Press TotEng Fmax Fnorm \n",
      "       0            0   -353.81308    8043.4187    274.59509    2581.1088 \n",
      "     100     1760.032    28.549193    4490.9849    257.97458    1751.0704 \n",
      "     200    968.93885   -25.835235    2230.4962    221.17546    1313.9979 \n",
      "     300    508.43447   -35.155702      1280.84    156.58031    1081.9177 \n",
      "     400    375.69345    13.564496    853.54073    123.55977       873.99 \n",
      "     500    275.63667    1.9905481     636.0253     99.24102    762.30594 \n",
      "     600    248.04794   -8.3942699    548.57275    91.863191    682.30335 \n",
      "     700    255.59114   -5.2415891    553.44522    120.14372    725.89284 \n",
      "     800    300.37773   -14.821543    632.16903    121.80725    736.13365 \n",
      "     900    332.85774    6.6813732     696.9702    117.18704    863.50261 \n",
      "    1000    323.40996    1.0795701    676.76205    111.09769    736.83992 \n",
      "Loop time of 1.70848 on 1 procs for 1000 steps with 408 atoms\n",
      "\n",
      "Performance: 50.571 ns/day, 0.475 hours/ns, 585.316 timesteps/s\n",
      "99.9% CPU use with 1 MPI tasks x no OpenMP threads\n",
      "\n",
      "MPI task timing breakdown:\n",
      "Section |  min time  |  avg time  |  max time  |%varavg| %total\n",
      "---------------------------------------------------------------\n",
      "Pair    | 1.2389     | 1.2389     | 1.2389     |   0.0 | 72.52\n",
      "Bond    | 0.43283    | 0.43283    | 0.43283    |   0.0 | 25.33\n",
      "Neigh   | 0.0087297  | 0.0087297  | 0.0087297  |   0.0 |  0.51\n",
      "Comm    | 0.0011024  | 0.0011024  | 0.0011024  |   0.0 |  0.06\n",
      "Output  | 0.0054173  | 0.0054173  | 0.0054173  |   0.0 |  0.32\n",
      "Modify  | 0.019427   | 0.019427   | 0.019427   |   0.0 |  1.14\n",
      "Other   |            | 0.002041   |            |       |  0.12\n",
      "\n",
      "Nlocal:    408 ave 408 max 408 min\n",
      "Histogram: 1 0 0 0 0 0 0 0 0 0\n",
      "Nghost:    182 ave 182 max 182 min\n",
      "Histogram: 1 0 0 0 0 0 0 0 0 0\n",
      "Neighs:    41798 ave 41798 max 41798 min\n",
      "Histogram: 1 0 0 0 0 0 0 0 0 0\n",
      "\n",
      "Total # of neighbors = 41798\n",
      "Ave neighs/atom = 102.446\n",
      "Ave special neighs/atom = 9.91176\n",
      "Neighbor list builds = 8\n",
      "Dangerous builds = 0\n",
      "Total wall time: 0:00:01\n",
      " \n"
     ]
    }
   ],
   "source": [
    "#brandon's binary\n",
    "#lammps_bin = 'mpiexec -n 2 lammps'\n",
    "\n",
    "# binary compiled with openmpi, from ubuntu repo\n",
    "#lammps_bin = 'lammps-daily'\n",
    "\n",
    "# serial binary, compiled from source\n",
    "lammps_bin = 'lmp_serial'\n",
    "\n",
    "lammps = LammpsRunner(lammps_input, input_filename=input_filename, bin=lammps_bin)\n",
    "lammps.run()"
   ]
  },
  {
   "cell_type": "code",
   "execution_count": null,
   "metadata": {
    "collapsed": true
   },
   "outputs": [],
   "source": []
  }
 ],
 "metadata": {
  "kernelspec": {
   "display_name": "Python 2",
   "language": "python",
   "name": "python2"
  },
  "language_info": {
   "codemirror_mode": {
    "name": "ipython",
    "version": 2
   },
   "file_extension": ".py",
   "mimetype": "text/x-python",
   "name": "python",
   "nbconvert_exporter": "python",
   "pygments_lexer": "ipython2",
   "version": "2.7.6"
  }
 },
 "nbformat": 4,
 "nbformat_minor": 0
}
