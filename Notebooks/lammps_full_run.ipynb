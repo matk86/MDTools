{
 "cells": [
  {
   "cell_type": "markdown",
   "metadata": {},
   "source": [
    "This notebook does the following:\n",
    "\n",
    "    generate random walk polymer chain\n",
    "    local optimization using openbabel\n",
    "    packing of multiple polymer chains into the simulation box\n",
    "    Compute the system topology and read in the force field data\n",
    "    write the data file for lammps run\n",
    "    write the main input file for lammps run\n",
    "\n",
    "Dependencies:\n",
    "\n",
    "    pymatgen(latest development version from github or atleast v3.7.1)\n",
    "\n",
    "Required input files:\n",
    "\n",
    "    structures of start, bulk and terminal monomer molecules\n",
    "    appropriately formatted yaml forcefield data file"
   ]
  },
  {
   "cell_type": "code",
   "execution_count": 1,
   "metadata": {
    "collapsed": false
   },
   "outputs": [],
   "source": [
    "import numpy as np\n",
    "\n",
    "from pprint import pprint\n",
    "\n",
    "from pymatgen import Molecule\n",
    "from pymatgen.io.babel import BabelMolAdaptor\n",
    "from pymatgen.io.lammps.utils import Polymer, PackmolRunner"
   ]
  },
  {
   "cell_type": "markdown",
   "metadata": {},
   "source": [
    "# Set the start, bulk, and terminal molecules. \n",
    "\n",
    "Set charges and optionally the forcefield species name mapping "
   ]
  },
  {
   "cell_type": "code",
   "execution_count": 2,
   "metadata": {
    "collapsed": false
   },
   "outputs": [],
   "source": [
    "# start molecule\n",
    "peo_start = Molecule.from_file(\"test_files/peo_start.xyz\")\n",
    "s_charges = [-0.1187, 0.0861, 0.0861, 0.0861, -0.2792, -0.0326, 0.0861, 0.0861]\n",
    "peo_start.add_site_property(\"charge\", s_charges)\n",
    "s_head = 0\n",
    "s_tail = 5\n",
    "\n",
    "# chain molecule\n",
    "peo_bulk = Molecule.from_file(\"test_files/peo_bulk.xyz\")\n",
    "b_charges = [-0.0326, 0.0861, 0.0861, -0.2792, -0.0326, 0.0861, 0.0861]\n",
    "peo_bulk.add_site_property(\"charge\", b_charges)\n",
    "head = 0\n",
    "tail = 4\n",
    "\n",
    "# terminal molecule\n",
    "peo_end = Molecule.from_file(\"test_files/peo_end.xyz\")\n",
    "e_charges = [-0.0326, 0.0861, 0.0861, -0.2792, -0.1187, 0.0861, 0.0861, 0.0861]\n",
    "peo_end.add_site_property(\"charge\", e_charges)\n",
    "e_head = 0\n",
    "e_tail = 4"
   ]
  },
  {
   "cell_type": "markdown",
   "metadata": {},
   "source": [
    "# Create polymer via random walk"
   ]
  },
  {
   "cell_type": "code",
   "execution_count": 3,
   "metadata": {
    "collapsed": false
   },
   "outputs": [],
   "source": [
    "n_units = 58\n",
    "link_distance = 1.5075\n",
    "\n",
    "# create the polymer\n",
    "peo_polymer = Polymer(peo_start, s_head, s_tail, \n",
    "                      peo_bulk, head, tail, \n",
    "                      peo_end, e_head, e_tail, \n",
    "                      n_units, link_distance)\n",
    "\n",
    "# linear chain\n",
    "peo_polymer_linear = Polymer(peo_start, s_head, s_tail, \n",
    "                             peo_bulk, head, tail, \n",
    "                             peo_end, e_head, e_tail, \n",
    "                             n_units, link_distance, linear_chain=True)"
   ]
  },
  {
   "cell_type": "markdown",
   "metadata": {},
   "source": [
    "# Set the topology of the polymer from the linear chain"
   ]
  },
  {
   "cell_type": "code",
   "execution_count": 4,
   "metadata": {
    "collapsed": false
   },
   "outputs": [
    {
     "name": "stdout",
     "output_type": "stream",
     "text": [
      "(408, 407, 754, 861)\n"
     ]
    }
   ],
   "source": [
    "from pymatgen.io.lammps.topology import Topology\n",
    "\n",
    "topology = Topology.from_molecule(peo_polymer_linear.molecule)\n",
    "\n",
    "natoms, nbonds, nangles, ndih =  len(topology.atoms), len(topology.bonds), len(topology.angles), len(topology.dihedrals)\n",
    "\n",
    "print(natoms, nbonds, nangles, ndih)"
   ]
  },
  {
   "cell_type": "markdown",
   "metadata": {},
   "source": [
    "# Generate polymer matrix"
   ]
  },
  {
   "cell_type": "code",
   "execution_count": 5,
   "metadata": {
    "collapsed": false
   },
   "outputs": [],
   "source": [
    "# constituent molecules\n",
    "molecules = [peo_polymer.molecule]\n",
    "#Polymer matrix settings\n",
    "matrix_config = [{\"number\": 1, \"inside box\":[0,0,0,100,100,100]}]"
   ]
  },
  {
   "cell_type": "markdown",
   "metadata": {},
   "source": [
    "# Use Packmol to pack the polymer chains into a box"
   ]
  },
  {
   "cell_type": "code",
   "execution_count": 6,
   "metadata": {
    "collapsed": false
   },
   "outputs": [
    {
     "name": "stdout",
     "output_type": "stream",
     "text": [
      "packed molecule written to poly_packed.xyz\n"
     ]
    }
   ],
   "source": [
    "pmr = PackmolRunner(molecules,\n",
    "                    matrix_config,\n",
    "                    tolerance=2.0,\n",
    "                    filetype=\"xyz\",\n",
    "                    control_params={\"nloop\": 1000},\n",
    "                    output_file=\"poly_packed.xyz\")\n",
    "packed_polymer = pmr.run()"
   ]
  },
  {
   "cell_type": "markdown",
   "metadata": {},
   "source": [
    "# Read in the force field parameters"
   ]
  },
  {
   "cell_type": "code",
   "execution_count": 7,
   "metadata": {
    "collapsed": false
   },
   "outputs": [],
   "source": [
    "from pymatgen.io.lammps.force_field import ForceField\n",
    "\n",
    "forcefield = ForceField.from_file(\"ff_data.yaml\")"
   ]
  },
  {
   "cell_type": "markdown",
   "metadata": {},
   "source": [
    "# Generate lammps data file from the topology and the forcefield"
   ]
  },
  {
   "cell_type": "code",
   "execution_count": 8,
   "metadata": {
    "collapsed": false
   },
   "outputs": [],
   "source": [
    "from pymatgen.io.lammps.data import LammpsForceFieldData\n",
    "\n",
    "mols_number = [mol_config[\"number\"] for mol_config in matrix_config]\n",
    "box_size = [[0.0, 100], \n",
    "            [0.0, 100], \n",
    "            [0.0, 100]]\n",
    "\n",
    "# list of molecular topologies for each constituent molecules\n",
    "topologies = [topology]*len(molecules)\n",
    "\n",
    "lammps_ff_data = LammpsForceFieldData.from_forcefield_and_topology(molecules, mols_number, \n",
    "                                                                   box_size, packed_polymer, \n",
    "                                                                   forcefield, topologies)\n",
    "#write the data file\n",
    "#lammps_ff_data.write_data_file(\"lammps_data.dat\")"
   ]
  },
  {
   "cell_type": "markdown",
   "metadata": {},
   "source": [
    "# Setup input file"
   ]
  },
  {
   "cell_type": "code",
   "execution_count": 9,
   "metadata": {
    "collapsed": false
   },
   "outputs": [
    {
     "name": "stdout",
     "output_type": "stream",
     "text": [
      "Writing the data to peo_chain.data\n",
      "units  real\n",
      "dimension  3\n",
      "atom_style  full\n",
      "boundary  p p p\n",
      "neighbor  10.0 bin\n",
      "bond_style  harmonic\n",
      "angle_style  harmonic\n",
      "dihedral_style  opls\n",
      "read_data  peo_chain.data\n",
      "pair_style  buck/coul/cut 15.0\n",
      "pair_coeff 1 1 2649.6 0.2674 27.22\n",
      "pair_coeff 1 2 4320.0 0.2928 137.6\n",
      "pair_coeff 1 3 14176.0 0.2563 104.0\n",
      "pair_coeff 2 2 14976.0 0.3236 637.6\n",
      "pair_coeff 2 3 33702.4 0.2796 503.0\n",
      "pair_coeff 3 3 75844.8 0.2461 396.9\n",
      "dump DUMP all custom 200 poly.lammps.dump id type x y z ix iy iz mol\n",
      "dump traj all dcd 100 lammps_traj.dcd\n",
      "thermo_style  custom step temp press etotal fmax fnorm\n",
      "thermo  100\n",
      "fix  NPT all npt temp 298 298 100.0 iso 0.0 0.0 100.0\n",
      "run  1000\n",
      "\n"
     ]
    }
   ],
   "source": [
    "from pymatgen.io.lammps.input import DictLammpsInput\n",
    "\n",
    "#override default settings read from the json file with these\n",
    "user_settings = {\"pair_style\": \"buck/coul/cut 15.0\", \n",
    "                 \"pair_coeff\": [\"1 1 2649.6 0.2674 27.22\",\n",
    "                                \"1 2 4320.0 0.2928 137.6\",\n",
    "                                \"1 3 14176.0 0.2563 104.0\",\n",
    "                                \"2 2 14976.0 0.3236 637.6\",\n",
    "                                \"2 3 33702.4 0.2796 503.0\",\n",
    "                                \"3 3 75844.8 0.2461 396.9\"],\n",
    "                  \"dump\": [\"DUMP all custom 200 poly.lammps.dump id type x y z ix iy iz mol\",\n",
    "                           \"traj all dcd 100 lammps_traj.dcd\"]}\n",
    "\n",
    "lammps_input = DictLammpsInput.from_file(\"NPT\", \"NPT.json\", \n",
    "                                         lammps_data=lammps_ff_data, data_filename=\"peo_chain.data\", \n",
    "                                         user_lammps_settings=user_settings)\n",
    "lammps_input.write_input(\"lammps.in\")\n",
    "print str(lammps_input)"
   ]
  },
  {
   "cell_type": "markdown",
   "metadata": {},
   "source": [
    "# Run Lammps"
   ]
  },
  {
   "cell_type": "code",
   "execution_count": 10,
   "metadata": {
    "collapsed": false
   },
   "outputs": [
    {
     "name": "stdout",
     "output_type": "stream",
     "text": [
      "LAMMPS (10 Feb 2015)\n",
      "Reading data file ...\n",
      "  orthogonal box = (0 0 0) to (100 100 100)\n",
      "  1 by 2 by 2 MPI processor grid\n",
      "  reading atoms ...\n",
      "  408 atoms\n",
      "  scanning bonds ...\n",
      "  4 = max bonds/atom\n",
      "  scanning angles ...\n",
      "  6 = max angles/atom\n",
      "  scanning dihedrals ...\n",
      "  9 = max dihedrals/atom\n",
      "  reading bonds ...\n",
      "  407 bonds\n",
      "  reading angles ...\n",
      "  754 angles\n",
      "  reading dihedrals ...\n",
      "  861 dihedrals\n",
      "Finding 1-2 1-3 1-4 neighbors ...\n",
      "  4 = max # of 1-2 neighbors\n",
      "  6 = max # of 1-3 neighbors\n",
      "  12 = max # of 1-4 neighbors\n",
      "  14 = max # of special neighbors\n",
      "Neighbor list info ...\n",
      "  1 neighbor list requests\n",
      "  update every 1 steps, delay 10 steps, check yes\n",
      "  master list distance cutoff = 25\n",
      "Setting up run ...\n",
      "Memory usage per processor = 11.7666 Mbytes\n",
      "Step Temp Press TotEng Fmax Fnorm \n",
      "       0            0   -348.08299    8542.0965    277.30983    2629.3178 \n",
      "     100    1874.1257    33.325001    4417.0575    272.64632    1772.0306 \n",
      "     200    866.04492   -16.639006    2172.4832    205.01264    1335.7169 \n",
      "     300    551.17548    1.3571516    1268.3426    153.85007    1058.8298 \n",
      "     400    357.98605    5.8875939    832.46441    121.87334    903.47593 \n",
      "     500    283.99755   -5.5147433    619.11141    111.14296    749.77457 \n",
      "     600    250.78847   -3.6842979    545.44224    124.04945    756.29395 \n",
      "     700     276.0497    2.5853843    565.43879    116.19155    731.85963 \n",
      "     800     303.4598   -4.5658971    620.94629    117.11117    768.29105 \n",
      "     900    327.73077    12.099818    683.78722    121.95659    807.61856 \n",
      "    1000     316.7809   0.52429016    661.49606    98.025368    736.85434 \n",
      "Loop time of 0.533906 on 4 procs for 1000 steps with 408 atoms\n",
      "\n",
      "Pair  time (%) = 0.253266 (47.4364)\n",
      "Bond  time (%) = 0.0710968 (13.3163)\n",
      "Neigh time (%) = 0.00337815 (0.632724)\n",
      "Comm  time (%) = 0.190848 (35.7456)\n",
      "Outpt time (%) = 0.00214154 (0.401107)\n",
      "Other time (%) = 0.0131763 (2.46791)\n",
      "\n",
      "Nlocal:    102 ave 138 max 37 min\n",
      "Histogram: 1 0 0 0 0 0 0 2 0 1\n",
      "Nghost:    325.5 ave 371 max 292 min\n",
      "Histogram: 1 0 1 0 1 0 0 0 0 1\n",
      "Neighs:    14066.2 ave 22457 max 9015 min\n",
      "Histogram: 2 0 0 0 1 0 0 0 0 1\n",
      "\n",
      "Total # of neighbors = 56265\n",
      "Ave neighs/atom = 137.904\n",
      "Ave special neighs/atom = 9.91176\n",
      "Neighbor list builds = 8\n",
      "Dangerous builds = 0\n"
     ]
    }
   ],
   "source": [
    "!mpiexec -n 4 lammps -in lammps.in"
   ]
  }
 ],
 "metadata": {
  "kernelspec": {
   "display_name": "Python 2",
   "language": "python",
   "name": "python2"
  },
  "language_info": {
   "codemirror_mode": {
    "name": "ipython",
    "version": 2
   },
   "file_extension": ".py",
   "mimetype": "text/x-python",
   "name": "python",
   "nbconvert_exporter": "python",
   "pygments_lexer": "ipython2",
   "version": "2.7.10"
  }
 },
 "nbformat": 4,
 "nbformat_minor": 0
}
