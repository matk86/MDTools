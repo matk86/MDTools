{
 "cells": [
  {
   "cell_type": "markdown",
   "metadata": {},
   "source": [
    "This notebook does the following:\n",
    "\n",
    "    generate random walk polymer chain\n",
    "    local optimization using openbabel\n",
    "    packing of multiple polymer chains into the simulation box\n",
    "    Compute the system topology and read in the force field data\n",
    "    write the data file for lammps run\n",
    "    write the main input file for lammps run\n",
    "\n",
    "Dependencies:\n",
    "\n",
    "    pymatgen(latest development version from github or atleast v3.7.1)\n",
    "\n",
    "Required input files:\n",
    "\n",
    "    structures of start, bulk and terminal monomer molecules\n",
    "    appropriately formatted yaml forcefield data file"
   ]
  },
  {
   "cell_type": "code",
   "execution_count": 1,
   "metadata": {
    "collapsed": false
   },
   "outputs": [],
   "source": [
    "import numpy as np\n",
    "\n",
    "from pprint import pprint\n",
    "\n",
    "from pymatgen import Molecule\n",
    "from pymatgen.io.babel import BabelMolAdaptor\n",
    "from pymatgen.io.lammps.utils import Polymer, PackmolRunner"
   ]
  },
  {
   "cell_type": "markdown",
   "metadata": {},
   "source": [
    "# Set the start, bulk, and terminal molecules. \n",
    "\n",
    "Set charges and optionally the forcefield species name mapping "
   ]
  },
  {
   "cell_type": "code",
   "execution_count": 2,
   "metadata": {
    "collapsed": false
   },
   "outputs": [],
   "source": [
    "# start molecule\n",
    "peo_start = Molecule.from_file(\"test_files/peo_start.xyz\")\n",
    "s_charges = [-0.1187, 0.0861, 0.0861, 0.0861, -0.2792, -0.0326, 0.0861, 0.0861]\n",
    "peo_start.add_site_property(\"charge\", s_charges)\n",
    "s_head = 0\n",
    "s_tail = 5\n",
    "\n",
    "# chain molecule\n",
    "peo_bulk = Molecule.from_file(\"test_files/peo_bulk.xyz\")\n",
    "b_charges = [-0.0326, 0.0861, 0.0861, -0.2792, -0.0326, 0.0861, 0.0861]\n",
    "peo_bulk.add_site_property(\"charge\", b_charges)\n",
    "head = 0\n",
    "tail = 4\n",
    "\n",
    "# terminal molecule\n",
    "peo_end = Molecule.from_file(\"test_files/peo_end.xyz\")\n",
    "e_charges = [-0.0326, 0.0861, 0.0861, -0.2792, -0.1187, 0.0861, 0.0861, 0.0861]\n",
    "peo_end.add_site_property(\"charge\", e_charges)\n",
    "e_head = 0\n",
    "e_tail = 4"
   ]
  },
  {
   "cell_type": "markdown",
   "metadata": {},
   "source": [
    "# Create polymer via random walk"
   ]
  },
  {
   "cell_type": "code",
   "execution_count": 3,
   "metadata": {
    "collapsed": false
   },
   "outputs": [],
   "source": [
    "n_units = 58\n",
    "link_distance = 1.5075\n",
    "\n",
    "# create the polymer\n",
    "peo_polymer = Polymer(peo_start, s_head, s_tail, \n",
    "                      peo_bulk, head, tail, \n",
    "                      peo_end, e_head, e_tail, \n",
    "                      n_units, link_distance)\n",
    "\n",
    "# linear chain\n",
    "peo_polymer_linear = Polymer(peo_start, s_head, s_tail, \n",
    "                             peo_bulk, head, tail, \n",
    "                             peo_end, e_head, e_tail, \n",
    "                             n_units, link_distance, linear_chain=True)"
   ]
  },
  {
   "cell_type": "markdown",
   "metadata": {},
   "source": [
    "# Set the topology of the polymer from the linear chain"
   ]
  },
  {
   "cell_type": "code",
   "execution_count": 4,
   "metadata": {
    "collapsed": false
   },
   "outputs": [
    {
     "name": "stdout",
     "output_type": "stream",
     "text": [
      "(408, 407, 754, 861)\n"
     ]
    }
   ],
   "source": [
    "from pymatgen.io.lammps.topology import Topology\n",
    "\n",
    "topology = Topology.from_molecule(peo_polymer_linear.molecule)\n",
    "\n",
    "natoms, nbonds, nangles, ndih =  len(topology.atoms), len(topology.bonds), len(topology.angles), len(topology.dihedrals)\n",
    "\n",
    "print(natoms, nbonds, nangles, ndih)"
   ]
  },
  {
   "cell_type": "markdown",
   "metadata": {},
   "source": [
    "# Generate polymer matrix"
   ]
  },
  {
   "cell_type": "code",
   "execution_count": 5,
   "metadata": {
    "collapsed": false
   },
   "outputs": [],
   "source": [
    "# constituent molecules\n",
    "molecules = [peo_polymer.molecule]\n",
    "#Polymer matrix settings\n",
    "matrix_config = [{\"number\": 1, \"inside box\":[0,0,0,100,100,100]}]"
   ]
  },
  {
   "cell_type": "markdown",
   "metadata": {},
   "source": [
    "# Use Packmol to pack the polymer chains into a box"
   ]
  },
  {
   "cell_type": "code",
   "execution_count": 6,
   "metadata": {
    "collapsed": false
   },
   "outputs": [
    {
     "name": "stdout",
     "output_type": "stream",
     "text": [
      "packed molecule written to poly_packed.xyz\n"
     ]
    }
   ],
   "source": [
    "pmr = PackmolRunner(molecules,\n",
    "                    matrix_config,\n",
    "                    tolerance=2.0,\n",
    "                    filetype=\"xyz\",\n",
    "                    control_params={\"nloop\": 1000},\n",
    "                    output_file=\"poly_packed.xyz\")\n",
    "packed_polymer = pmr.run()"
   ]
  },
  {
   "cell_type": "markdown",
   "metadata": {},
   "source": [
    "# Read in the force field parameters"
   ]
  },
  {
   "cell_type": "code",
   "execution_count": 7,
   "metadata": {
    "collapsed": false
   },
   "outputs": [],
   "source": [
    "from pymatgen.io.lammps.force_field import ForceField\n",
    "\n",
    "forcefield = ForceField.from_file(\"ff_data.yaml\")"
   ]
  },
  {
   "cell_type": "markdown",
   "metadata": {},
   "source": [
    "# Generate lammps data file from the topology and the forcefield"
   ]
  },
  {
   "cell_type": "code",
   "execution_count": 8,
   "metadata": {
    "collapsed": false
   },
   "outputs": [],
   "source": [
    "from pymatgen.io.lammps.data import LammpsForceFieldData\n",
    "\n",
    "mols_number = [mol_config[\"number\"] for mol_config in matrix_config]\n",
    "box_size = [[0.0, 100], \n",
    "            [0.0, 100], \n",
    "            [0.0, 100]]\n",
    "\n",
    "# list of molecular topologies for each constituent molecules\n",
    "topologies = [topology]*len(molecules)\n",
    "\n",
    "lammps_ff_data = LammpsForceFieldData.from_forcefield_and_topology(molecules, mols_number, \n",
    "                                                                   box_size, packed_polymer, \n",
    "                                                                   forcefield, topologies)\n",
    "#write the data file\n",
    "#lammps_ff_data.write_data_file(\"lammps_data.dat\")"
   ]
  },
  {
   "cell_type": "markdown",
   "metadata": {},
   "source": [
    "# Setup input file"
   ]
  },
  {
   "cell_type": "code",
   "execution_count": 9,
   "metadata": {
    "collapsed": false
   },
   "outputs": [
    {
     "name": "stdout",
     "output_type": "stream",
     "text": [
      "Writing the data to peo_chain.data\n",
      "units  real\n",
      "dimension  3\n",
      "atom_style  full\n",
      "boundary  p p p\n",
      "neighbor  10.0 bin\n",
      "bond_style  harmonic\n",
      "angle_style  harmonic\n",
      "dihedral_style  opls\n",
      "read_data  peo_chain.data\n",
      "pair_style  buck/coul/cut 15.0\n",
      "pair_coeff 1 1 2649.6 0.2674 27.22\n",
      "pair_coeff 1 2 4320.0 0.2928 137.6\n",
      "pair_coeff 1 3 14176.0 0.2563 104.0\n",
      "pair_coeff 2 2 14976.0 0.3236 637.6\n",
      "pair_coeff 2 3 33702.4 0.2796 503.0\n",
      "pair_coeff 3 3 75844.8 0.2461 396.9\n",
      "dump DUMP all custom 200 poly.lammps.dump id type x y z ix iy iz mol\n",
      "dump traj all dcd 100 lammps_traj.dcd\n",
      "thermo_style  custom step temp press etotal fmax fnorm\n",
      "thermo  100\n",
      "fix  NPT all npt temp 298 298 100.0 iso 0.0 0.0 100.0\n",
      "run  1000\n",
      "\n"
     ]
    }
   ],
   "source": [
    "from pymatgen.io.lammps.input import DictLammpsInput\n",
    "\n",
    "#override default settings read from the json file with these\n",
    "user_settings = {\"pair_style\": \"buck/coul/cut 15.0\", \n",
    "                 \"pair_coeff\": [\"1 1 2649.6 0.2674 27.22\",\n",
    "                                \"1 2 4320.0 0.2928 137.6\",\n",
    "                                \"1 3 14176.0 0.2563 104.0\",\n",
    "                                \"2 2 14976.0 0.3236 637.6\",\n",
    "                                \"2 3 33702.4 0.2796 503.0\",\n",
    "                                \"3 3 75844.8 0.2461 396.9\"],\n",
    "                  \"dump\": [\"DUMP all custom 200 poly.lammps.dump id type x y z ix iy iz mol\",\n",
    "                           \"traj all dcd 100 lammps_traj.dcd\"]}\n",
    "\n",
    "lammps_input = DictLammpsInput.from_file(\"NPT\", \"NPT.json\", \n",
    "                                         lammps_data=lammps_ff_data, data_filename=\"peo_chain.data\", \n",
    "                                         user_lammps_settings=user_settings)\n",
    "lammps_input.write_input(\"lammps.in\")\n",
    "print str(lammps_input)"
   ]
  },
  {
   "cell_type": "markdown",
   "metadata": {},
   "source": [
    "# Run Lammps"
   ]
  },
  {
   "cell_type": "code",
   "execution_count": 11,
   "metadata": {
    "collapsed": false
   },
   "outputs": [
    {
     "name": "stdout",
     "output_type": "stream",
     "text": [
      "LAMMPS (18 Jun 2016)\n",
      "Reading data file ...\n",
      "  orthogonal box = (0 0 0) to (100 100 100)\n",
      "  1 by 1 by 1 MPI processor grid\n",
      "  reading atoms ...\n",
      "  408 atoms\n",
      "  scanning bonds ...\n",
      "  4 = max bonds/atom\n",
      "  scanning angles ...\n",
      "  6 = max angles/atom\n",
      "  scanning dihedrals ...\n",
      "  9 = max dihedrals/atom\n",
      "  reading bonds ...\n",
      "  407 bonds\n",
      "  reading angles ...\n",
      "  754 angles\n",
      "  reading dihedrals ...\n",
      "  861 dihedrals\n",
      "Finding 1-2 1-3 1-4 neighbors ...\n",
      " Special bond factors lj:   0          0          0         \n",
      " Special bond factors coul: 0          0          0         \n",
      "  4 = max # of 1-2 neighbors\n",
      "  6 = max # of 1-3 neighbors\n",
      "  12 = max # of 1-4 neighbors\n",
      "  14 = max # of special neighbors\n",
      "Neighbor list info ...\n",
      "  1 neighbor list requests\n",
      "  update every 1 steps, delay 10 steps, check yes\n",
      "  max neighbors/atom: 2000, page size: 100000\n",
      "  master list distance cutoff = 25\n",
      "  ghost atom cutoff = 25\n",
      "  binsize = 12.5, bins = 8 8 8\n",
      "Setting up Verlet run ...\n",
      "  Unit style    : real\n",
      "  Current step  : 0\n",
      "  Time step     : 1\n",
      "Memory usage per processor = 12.3005 Mbytes\n",
      "Step Temp Press TotEng Fmax Fnorm \n",
      "       0            0   -351.59585    8401.2388    296.87463    2668.4616 \n",
      "     100     1854.782    40.347408    4299.1146    254.33024    1670.6137 \n",
      "     200    846.22549   -30.598431    2134.1663    194.61125    1401.4908 \n",
      "     300    527.73232   -13.721684    1232.9739    158.94565    993.40865 \n",
      "     400    343.76454   -7.4472537    806.57515    146.26967    836.39899 \n",
      "     500    258.92335   -11.402402    585.42107    104.05255    764.44053 \n",
      "     600    260.05513   -4.4177891    529.26548    99.307742    711.99373 \n",
      "     700    261.85326   -8.4017322    562.40687    115.45864    732.56333 \n",
      "     800    310.09664    11.575102    672.68481    112.33117    803.11031 \n",
      "     900    348.26393  -0.11513237    741.49437    105.03133    764.44499 \n",
      "    1000    317.92415   0.13574662    707.64248    121.46646    777.56739 \n",
      "Loop time of 2.79174 on 1 procs for 1000 steps with 408 atoms\n",
      "\n",
      "Performance: 30.948 ns/day, 0.775 hours/ns, 358.200 timesteps/s\n",
      "100.0% CPU use with 1 MPI tasks x no OpenMP threads\n",
      "\n",
      "MPI task timing breakdown:\n",
      "Section |  min time  |  avg time  |  max time  |%varavg| %total\n",
      "---------------------------------------------------------------\n",
      "Pair    | 2.2659     | 2.2659     | 2.2659     |   0.0 | 81.16\n",
      "Bond    | 0.4797     | 0.4797     | 0.4797     |   0.0 | 17.18\n",
      "Neigh   | 0.010565   | 0.010565   | 0.010565   |   0.0 |  0.38\n",
      "Comm    | 0.00072646 | 0.00072646 | 0.00072646 |   0.0 |  0.03\n",
      "Output  | 0.0059149  | 0.0059149  | 0.0059149  |   0.0 |  0.21\n",
      "Modify  | 0.025777   | 0.025777   | 0.025777   |   0.0 |  0.92\n",
      "Other   |            | 0.003193   |            |       |  0.11\n",
      "\n",
      "Nlocal:    408 ave 408 max 408 min\n",
      "Histogram: 1 0 0 0 0 0 0 0 0 0\n",
      "Nghost:    0 ave 0 max 0 min\n",
      "Histogram: 1 0 0 0 0 0 0 0 0 0\n",
      "Neighs:    74729 ave 74729 max 74729 min\n",
      "Histogram: 1 0 0 0 0 0 0 0 0 0\n",
      "\n",
      "Total # of neighbors = 74729\n",
      "Ave neighs/atom = 183.159\n",
      "Ave special neighs/atom = 9.91176\n",
      "Neighbor list builds = 7\n",
      "Dangerous builds = 0\n",
      "Total wall time: 0:00:02\n"
     ]
    }
   ],
   "source": [
    "# binary compiled with openmpi, from ubuntu repo\n",
    "#!lammps-daily -in lammps.in\n",
    "\n",
    "# serial binary, compiled from source\n",
    "#!lmp_serial -in lammps.in\n",
    "\n",
    "#\n",
    "#!mpiexec -n 4 lammps -in lammps.in"
   ]
  },
  {
   "cell_type": "code",
   "execution_count": null,
   "metadata": {
    "collapsed": true
   },
   "outputs": [],
   "source": []
  }
 ],
 "metadata": {
  "kernelspec": {
   "display_name": "Python 2",
   "language": "python",
   "name": "python2"
  },
  "language_info": {
   "codemirror_mode": {
    "name": "ipython",
    "version": 2
   },
   "file_extension": ".py",
   "mimetype": "text/x-python",
   "name": "python",
   "nbconvert_exporter": "python",
   "pygments_lexer": "ipython2",
   "version": "2.7.6"
  }
 },
 "nbformat": 4,
 "nbformat_minor": 0
}
