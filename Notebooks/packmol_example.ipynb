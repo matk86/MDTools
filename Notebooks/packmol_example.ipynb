{
 "cells": [
  {
   "cell_type": "code",
   "execution_count": 1,
   "metadata": {
    "collapsed": false
   },
   "outputs": [],
   "source": [
    "from pymatgen.io.lammps.utils import PackmolRunner \n",
    "from pymatgen.core import Molecule"
   ]
  },
  {
   "cell_type": "code",
   "execution_count": 2,
   "metadata": {
    "collapsed": false
   },
   "outputs": [],
   "source": [
    "ethanol_coords = [[0.00720, -0.56870, 0.00000],\n",
    "                      [-1.28540, 0.24990, 0.00000],\n",
    "                      [1.13040, 0.31470, 0.00000],\n",
    "                      [0.03920, -1.19720, 0.89000],\n",
    "                      [0.03920, -1.19720, -0.89000],\n",
    "                      [-1.31750, 0.87840, 0.89000],\n",
    "                      [-1.31750, 0.87840, -0.89000],\n",
    "                      [-2.14220, -0.42390, -0.00000],\n",
    "                      [1.98570, -0.13650, -0.00000]]\n",
    "ethanol = Molecule([\"C\", \"C\", \"O\", \"H\", \"H\", \"H\", \"H\", \"H\", \"H\"], ethanol_coords)\n",
    "\n",
    "water_coords = [[9.626, 6.787, 12.673],\n",
    "                [9.626, 8.420, 12.673],\n",
    "                [10.203, 7.604, 12.673]]\n",
    "water = Molecule([\"H\", \"H\", \"O\"], water_coords)"
   ]
  },
  {
   "cell_type": "code",
   "execution_count": 3,
   "metadata": {
    "collapsed": false
   },
   "outputs": [
    {
     "name": "stdout",
     "output_type": "stream",
     "text": [
      "packed molecule written to cocktail.xyz\n"
     ]
    }
   ],
   "source": [
    "packmol_config = [{\"number\": 1, \"fixed\": [0, 0, 0, 0, 0, 0],\"centerofmass\": \"\"},\n",
    "                  {\"number\": 15, \"inside sphere\": [0, 0, 0, 5]}]\n",
    "pmr = PackmolRunner([ethanol, water],\n",
    "                    packmol_config,\n",
    "                    tolerance=2.0,\n",
    "                    filetype=\"xyz\",\n",
    "                    control_params={\"nloop\": 1000},\n",
    "                    auto_box=False, output_file=\"cocktail.xyz\")\n",
    "s = pmr.run()"
   ]
  },
  {
   "cell_type": "code",
   "execution_count": null,
   "metadata": {
    "collapsed": true
   },
   "outputs": [],
   "source": []
  }
 ],
 "metadata": {
  "kernelspec": {
   "display_name": "Python 2",
   "language": "python",
   "name": "python2"
  },
  "language_info": {
   "codemirror_mode": {
    "name": "ipython",
    "version": 2
   },
   "file_extension": ".py",
   "mimetype": "text/x-python",
   "name": "python",
   "nbconvert_exporter": "python",
   "pygments_lexer": "ipython2",
   "version": "2.7.6"
  }
 },
 "nbformat": 4,
 "nbformat_minor": 0
}
