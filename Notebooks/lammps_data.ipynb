{
 "cells": [
  {
   "cell_type": "markdown",
   "metadata": {},
   "source": [
    "This notebook does the following:\n",
    "\n",
    "    generate random walk polymer chain\n",
    "    local optimization using openbabel\n",
    "    packing of multiple polymer chains into the simulation box\n",
    "    Compute the system topology and read in the force field data\n",
    "    write the data file for lammps run\n",
    "\n",
    "Dependencies:\n",
    "\n",
    "    pymatgen(latest development version from github)\n",
    "    packmol\n",
    "\n",
    "Required input files:\n",
    "\n",
    "    structures of start, bulk and terminal monomer molecules\n",
    "    appropriately formatted yaml forcefield data file"
   ]
  },
  {
   "cell_type": "code",
   "execution_count": 1,
   "metadata": {
    "collapsed": false
   },
   "outputs": [],
   "source": [
    "import numpy as np\n",
    "\n",
    "from pprint import pprint\n",
    "\n",
    "from pymatgen import Molecule\n",
    "from pymatgen.io.babel import BabelMolAdaptor\n",
    "from pymatgen.io.lammps.utils import Polymer, PackmolRunner"
   ]
  },
  {
   "cell_type": "markdown",
   "metadata": {},
   "source": [
    "Set the start, bulk, and terminal molecules. Also set the forcefield species name mapping"
   ]
  },
  {
   "cell_type": "code",
   "execution_count": 2,
   "metadata": {
    "collapsed": false
   },
   "outputs": [],
   "source": [
    "# start molecule\n",
    "peo_start = Molecule.from_file(\"test_files/PEOmonomer_start.xyz\")\n",
    "s_charges = [-0.1187, 0.0861, 0.0861, 0.0861, -0.2792, -0.0326, 0.0861, 0.0861]\n",
    "peo_start.add_site_property(\"charge\", s_charges)\n",
    "s_head = 0\n",
    "s_tail = 5\n",
    "\n",
    "# chain molecule\n",
    "peo_bulk = Molecule.from_file(\"test_files/PEOmonomer_bulk.xyz\")\n",
    "b_charges = [-0.0326, 0.0861, 0.0861, -0.2792, -0.0326, 0.0861, 0.0861]\n",
    "peo_bulk.add_site_property(\"charge\", b_charges)\n",
    "head = 0\n",
    "tail = 4\n",
    "\n",
    "# terminal molecule\n",
    "peo_end = Molecule.from_file(\"test_files/PEOmonomer_end.xyz\")\n",
    "e_charges = [-0.0326, 0.0861, 0.0861, -0.2792, -0.1187, 0.0861, 0.0861, 0.0861]\n",
    "peo_end.add_site_property(\"charge\", e_charges)\n",
    "e_head = 0\n",
    "e_tail = 4"
   ]
  },
  {
   "cell_type": "markdown",
   "metadata": {},
   "source": [
    "# Create polymer via random walk"
   ]
  },
  {
   "cell_type": "code",
   "execution_count": 3,
   "metadata": {
    "collapsed": false
   },
   "outputs": [],
   "source": [
    "n_units = 25\n",
    "link_distance = 1.5075\n",
    "\n",
    "# create the polymer\n",
    "peo_polymer = Polymer(peo_start, s_head, s_tail, \n",
    "                      peo_bulk, head, tail, \n",
    "                      peo_end, e_head, e_tail, \n",
    "                      n_units, link_distance)\n",
    "\n",
    "# linear chain\n",
    "peo_polymer_linear = Polymer(peo_start, s_head, s_tail, \n",
    "                             peo_bulk, head, tail, \n",
    "                             peo_end, e_head, e_tail, \n",
    "                             n_units, link_distance, linear_chain=True)\n",
    "\n",
    "#peo_polymer.molecule.to(filename=\"polymer.xyz\", fmt=\"xyz\")\n",
    "#peo_polymer_linear.molecule.to(filename=\"polymer_linear.xyz\", fmt=\"xyz\")"
   ]
  },
  {
   "cell_type": "markdown",
   "metadata": {},
   "source": [
    "set the topology of the polymer from the linear chain"
   ]
  },
  {
   "cell_type": "code",
   "execution_count": 4,
   "metadata": {
    "collapsed": false
   },
   "outputs": [
    {
     "name": "stdout",
     "output_type": "stream",
     "text": [
      "(177, 176, 325, 366)\n"
     ]
    }
   ],
   "source": [
    "from pymatgen.io.lammps.topology import Topology\n",
    "\n",
    "topology = Topology.from_molecule(peo_polymer_linear.molecule)\n",
    "\n",
    "natoms, nbonds, nangles, ndih =  len(topology.atoms), len(topology.bonds), len(topology.angles), len(topology.dihedrals)\n",
    "\n",
    "print(natoms, nbonds, nangles, ndih)"
   ]
  },
  {
   "cell_type": "markdown",
   "metadata": {},
   "source": [
    "# Generate polymer matrix"
   ]
  },
  {
   "cell_type": "code",
   "execution_count": 5,
   "metadata": {
    "collapsed": false
   },
   "outputs": [],
   "source": [
    "#Polymer matrix settings\n",
    "\n",
    "# constituent molecules\n",
    "molecules = [peo_polymer.molecule]*5\n",
    "#radius = 100.0\n",
    "matrix_config = [{\"number\": 4, \"inside box\":[0,0,0,150,150,150]},\n",
    "                 {\"number\": 3, \"inside box\":[0,0,0,150,150,150]},\n",
    "                 {\"number\": 1, \"inside box\":[0,0,0,150,150,150]},\n",
    "                 {\"number\": 7, \"inside box\":[0,0,0,150,150,150]},\n",
    "                 {\"number\": 2, \"inside box\":[0,0,0,150,150,150]}]"
   ]
  },
  {
   "cell_type": "markdown",
   "metadata": {},
   "source": [
    "Use Packmol to pack the polymer chains into a box"
   ]
  },
  {
   "cell_type": "code",
   "execution_count": 6,
   "metadata": {
    "collapsed": false
   },
   "outputs": [
    {
     "name": "stdout",
     "output_type": "stream",
     "text": [
      "packed molecule written to poly_packed.xyz\n"
     ]
    }
   ],
   "source": [
    "pmr = PackmolRunner(molecules,\n",
    "                    matrix_config,\n",
    "                    tolerance=2.0,\n",
    "                    filetype=\"xyz\",\n",
    "                    control_params={\"nloop\": 1000},\n",
    "                    output_file=\"poly_packed.xyz\")\n",
    "packed_polymer = pmr.run()"
   ]
  },
  {
   "cell_type": "markdown",
   "metadata": {},
   "source": [
    "Read in the force field parameters"
   ]
  },
  {
   "cell_type": "code",
   "execution_count": 7,
   "metadata": {
    "collapsed": false
   },
   "outputs": [
    {
     "name": "stdout",
     "output_type": "stream",
     "text": [
      "{(u'C', u'C'): [1000, 1.5075],\n",
      " (u'C', u'H'): [1000, 1.1041],\n",
      " (u'C', u'O'): [1000, 1.4115]}\n"
     ]
    }
   ],
   "source": [
    "from pymatgen.io.lammps.force_field import ForceField\n",
    "\n",
    "forcefield = ForceField.from_file(\"ff_data.yaml\")\n",
    "pprint(forcefield.bonds)"
   ]
  },
  {
   "cell_type": "markdown",
   "metadata": {},
   "source": [
    "# Generate lammps data file from the topology and the forcefield"
   ]
  },
  {
   "cell_type": "code",
   "execution_count": 8,
   "metadata": {
    "collapsed": false
   },
   "outputs": [],
   "source": [
    "from pymatgen.io.lammps.data import LammpsForceFieldData\n",
    "\n",
    "mols_number = [mol_config[\"number\"] for mol_config in matrix_config]\n",
    "# sanity check\n",
    "assert len(packed_polymer) == sum([ len(mol)*mols_number[i] for i, mol in enumerate(molecules)])\n",
    "\n",
    "box_size = [[0.0, 150], \n",
    "            [0.0, 150], \n",
    "            [0.0, 150]]\n",
    "\n",
    "# list of molecular topologies for each constituent molecules\n",
    "topologies = [topology]*len(molecules)\n",
    "\n",
    "lammps_ff_data = LammpsForceFieldData.from_forcefield_and_topology(molecules, mols_number, \n",
    "                                                                   box_size, packed_polymer, \n",
    "                                                                   forcefield, topologies)\n",
    "\n",
    "# sanity check\n",
    "for top in topologies:\n",
    "    assert len(lammps_ff_data.atoms_data) == sum([ len(top.atoms)*mol_number for mol_number in mols_number])\n",
    "    assert len(lammps_ff_data.bonds_data) == sum([ len(top.bonds)*mol_number for mol_number in mols_number])\n",
    "    assert len(lammps_ff_data.angles_data) == sum([ len(top.angles)*mol_number for mol_number in mols_number])\n",
    "    assert len(lammps_ff_data.dihedrals_data) == sum([ len(top.dihedrals)*mol_number for mol_number in mols_number])"
   ]
  },
  {
   "cell_type": "markdown",
   "metadata": {},
   "source": [
    "Write the data file(uncomment the write line)"
   ]
  },
  {
   "cell_type": "code",
   "execution_count": 9,
   "metadata": {
    "collapsed": false
   },
   "outputs": [],
   "source": [
    "#print str(lammps_ff_data)\n",
    "\n",
    "#write the data file\n",
    "#lammps_ff_data.write_data_file(\"lammps_data.dat\")"
   ]
  },
  {
   "cell_type": "code",
   "execution_count": null,
   "metadata": {
    "collapsed": true
   },
   "outputs": [],
   "source": []
  }
 ],
 "metadata": {
  "kernelspec": {
   "display_name": "Python 2",
   "language": "python",
   "name": "python2"
  },
  "language_info": {
   "codemirror_mode": {
    "name": "ipython",
    "version": 2
   },
   "file_extension": ".py",
   "mimetype": "text/x-python",
   "name": "python",
   "nbconvert_exporter": "python",
   "pygments_lexer": "ipython2",
   "version": "2.7.6"
  }
 },
 "nbformat": 4,
 "nbformat_minor": 0
}
