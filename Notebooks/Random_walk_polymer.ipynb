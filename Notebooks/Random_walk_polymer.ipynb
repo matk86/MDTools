{
 "cells": [
  {
   "cell_type": "code",
   "execution_count": 1,
   "metadata": {
    "collapsed": true
   },
   "outputs": [],
   "source": [
    "import numpy as np\n",
    "\n",
    "from pymatgen import Molecule\n",
    "from pymatgen.core.operations import SymmOp\n",
    "from pymatgen.util.coord_utils import get_angle"
   ]
  },
  {
   "cell_type": "code",
   "execution_count": 2,
   "metadata": {
    "collapsed": true
   },
   "outputs": [],
   "source": [
    "class Polymer(object):\n",
    "    def __init__(self, monomer, n_units, head, tail, link_distance=1.0):\n",
    "        \"\"\"\n",
    "        Args:\n",
    "            monomer (Molecule): The monomer\n",
    "            n_units (int): number of monomer units\n",
    "            head (int): index of the atom in the monomer that forms the head\n",
    "            tail (int): tail atom index. monomers will be connected from head to tail\n",
    "            link_distance (float): distance between consecutive monomers\n",
    "        \"\"\"\n",
    "        self.monomer = monomer\n",
    "        self.n_units = n_units\n",
    "        self.start = head\n",
    "        self.end = tail\n",
    "        self.link_distance = link_distance\n",
    "        monomer.translate_sites(range(len(monomer)), -monomer.cart_coords[0])\n",
    "        self.mon_vector = monomer.cart_coords[tail] - monomer.cart_coords[head]\n",
    "        self.moves = {1:[1,0,0], 2:[0,1,0], 3:[0,0,1], 4:[-1,0,0], 5:[0,-1,0], 6:[0,0,-1]}\n",
    "        self.nmoves = len(self.moves.keys())\n",
    "        self.prev_move = 1\n",
    "        self.molecule = self.monomer.copy()\n",
    "        self.length = 1\n",
    "        self._create()\n",
    "    \n",
    "    def _create(self):\n",
    "        \"\"\"\n",
    "        create the polymer from the monomer by random walk\n",
    "        \"\"\"\n",
    "        while self.length != self.n_units:\n",
    "            self._add_monomer()\n",
    "            \n",
    "    def _next_move_direction(self):\n",
    "        \"\"\"\n",
    "        pick a move at random from the list of moves\n",
    "        \"\"\"\n",
    "        move = np.random.randint(1, self.nmoves+1)\n",
    "        while self.prev_move == (move + 3)%6:\n",
    "            move = np.random.randint(1, self.nmoves+1)\n",
    "        self.prev_move = move\n",
    "        print \"move\", move\n",
    "        return np.array(self.moves[move])\n",
    "    \n",
    "    def _align_monomer(self, monomer, move_direction):\n",
    "        \"\"\"\n",
    "        rotate the monomer so that it is aligned along the move direction\n",
    "        \"\"\"\n",
    "        axis = np.cross(self.mon_vector, move_direction)\n",
    "        origin = monomer[self.start].coords\n",
    "        angle = get_angle(self.mon_vector, move_direction)\n",
    "        #print \"axis, origin, angle\", axis, origin, angle\n",
    "        op = SymmOp.from_origin_axis_angle(origin, axis, angle)\n",
    "        monomer.apply_operation(op)\n",
    "\n",
    "    def _add_monomer(self):\n",
    "        \"\"\"\n",
    "        extend the polymer molecule by adding a monomer\n",
    "        \"\"\"\n",
    "        monomer = self.monomer.copy()\n",
    "        move_direction = self._next_move_direction()\n",
    "        translate_by = self.molecule.cart_coords[self.end] + self.link_distance * move_direction\n",
    "        monomer.translate_sites(range(len(monomer)), translate_by)\n",
    "        self._align_monomer(monomer, move_direction)\n",
    "        # add monomer if there are no crossings\n",
    "        does_cross = False\n",
    "        for i, site in enumerate(monomer):\n",
    "            try:\n",
    "                self.molecule.append(site.specie, site.coords)\n",
    "            except:\n",
    "                does_cross = True\n",
    "                polymer_length = len(self.molecule)\n",
    "                self.molecule.remove_sites(range(polymer_length-i, polymer_length))\n",
    "                break\n",
    "        if not does_cross:\n",
    "            self.length += 1\n",
    "            self.end += len(self.monomer)\n",
    "            print \"length: \", self.length"
   ]
  },
  {
   "cell_type": "code",
   "execution_count": 3,
   "metadata": {
    "collapsed": false
   },
   "outputs": [],
   "source": [
    "peo = Molecule.from_file(\"PEOmonomer_withH.xyz\")\n",
    "monomer = peo\n",
    "n_units = 100\n",
    "head_atom = 0\n",
    "tail_atom = 5\n",
    "link_distance = 3.0\n",
    "\n",
    "# create the polymer\n",
    "peo_polymer = Polymer(monomer, n_units, head_atom, tail_atom, link_distance)"
   ]
  },
  {
   "cell_type": "code",
   "execution_count": 4,
   "metadata": {
    "collapsed": false
   },
   "outputs": [],
   "source": [
    "# write the polymer molecule\n",
    "peo_polymer.molecule.to(filename=\"polymer.xyz\", fmt=\"xyz\")"
   ]
  },
  {
   "cell_type": "markdown",
   "metadata": {},
   "source": [
    "Use openbabel to optimize the polymer chain.\n",
    "Local optimization is used to preserve the chain structure."
   ]
  },
  {
   "cell_type": "code",
   "execution_count": 5,
   "metadata": {
    "collapsed": false
   },
   "outputs": [],
   "source": [
    "from pymatgen.io.babel import BabelMolAdaptor\n",
    "\n",
    "peo_obabel = BabelMolAdaptor(peo_polymer.molecule)\n",
    "# ['gaff', 'ghemical', 'mmff94', 'mmff94s', 'uff']\n",
    "peo_obabel.localopt(forcefield='mmff94', steps=500)\n",
    "peo_optimized = peo_obabel.pymatgen_mol\n",
    "peo_optimized.to(filename=\"polymer_optimized.xyz\", fmt=\"xyz\")"
   ]
  },
  {
   "cell_type": "markdown",
   "metadata": {},
   "source": [
    "Use Packmol to pack the optimized polymer chains into a box"
   ]
  },
  {
   "cell_type": "code",
   "execution_count": 6,
   "metadata": {
    "collapsed": false
   },
   "outputs": [
    {
     "name": "stdout",
     "output_type": "stream",
     "text": [
      "packed molecule written to poly_packed.xyz\n"
     ]
    }
   ],
   "source": [
    "from rubicon.io.packmol.packmol import PackmolRunner \n",
    "\n",
    "packmol_config = [{\"number\": 1, \"fixed\": [0, 0, 0, 0, 0, 0],\"centerofmass\": \"\"},\n",
    "                  {\"number\": 10, \"inside sphere\": [0, 0, 0, 200.0]}]\n",
    "pmr = PackmolRunner([peo_optimized, peo_optimized],\n",
    "                    packmol_config,\n",
    "                    tolerance=2.0,\n",
    "                    filetype=\"xyz\",\n",
    "                    control_params={\"nloop\": 1000},\n",
    "                    auto_box=False, output_file=\"poly_packed.xyz\")\n",
    "packed_polymer = pmr.run()"
   ]
  },
  {
   "cell_type": "markdown",
   "metadata": {},
   "source": [
    "Get the polymer mixture topology: atoms, bonds, angles and dihedrals"
   ]
  },
  {
   "cell_type": "code",
   "execution_count": 7,
   "metadata": {
    "collapsed": false
   },
   "outputs": [
    {
     "name": "stdout",
     "output_type": "stream",
     "text": [
      "9900 8613 13552 5478\n"
     ]
    }
   ],
   "source": [
    "import openbabel\n",
    "\n",
    "peo_obabel = BabelMolAdaptor(packed_polymer)\n",
    "\n",
    "obmol = peo_obabel.openbabel_mol\n",
    "\n",
    "atoms = [x.GetIdx()-1 for x in openbabel.OBMolAtomIter(obmol)]\n",
    "bonds = [[x.GetBeginAtomIdx()-1, x.GetEndAtomIdx()-1] \n",
    "         for x in openbabel.OBMolBondIter(obmol)] \n",
    "angles = [list(x) for x in openbabel.OBMolAngleIter(obmol)]\n",
    "dihedrals = [list(x) for x in openbabel.OBMolTorsionIter(obmol)]\n",
    "\n",
    "print len(atoms), len(bonds), len(angles), len(dihedrals)"
   ]
  }
 ],
 "metadata": {
  "kernelspec": {
   "display_name": "Python 2",
   "language": "python",
   "name": "python2"
  },
  "language_info": {
   "codemirror_mode": {
    "name": "ipython",
    "version": 2
   },
   "file_extension": ".py",
   "mimetype": "text/x-python",
   "name": "python",
   "nbconvert_exporter": "python",
   "pygments_lexer": "ipython2",
   "version": "2.7.6"
  }
 },
 "nbformat": 4,
 "nbformat_minor": 0
}
