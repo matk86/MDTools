{
 "cells": [
  {
   "cell_type": "code",
   "execution_count": 1,
   "metadata": {
    "collapsed": true
   },
   "outputs": [],
   "source": [
    "import numpy as np\n",
    "\n",
    "from pymatgen import Molecule\n",
    "from pymatgen.io.babel import BabelMolAdaptor\n",
    "\n",
    "from polymers.core import Polymer\n",
    "from polymers.utils import get_topology"
   ]
  },
  {
   "cell_type": "markdown",
   "metadata": {},
   "source": [
    "Set the start, bulk and terminal molecules. Also set the forcefield species name mapping"
   ]
  },
  {
   "cell_type": "code",
   "execution_count": 2,
   "metadata": {
    "collapsed": false
   },
   "outputs": [],
   "source": [
    "# start molecule\n",
    "peo_start = Molecule.from_file(\"PEOmonomer_start.xyz\")\n",
    "ff_map = [\"Ce\", \"H\", \"H\", \"H\", \"O\", \"Cm\", \"H\", \"H\"]\n",
    "peo_start.add_site_property(\"ff_map\", ff_map)\n",
    "s_head = 0\n",
    "s_tail = 5\n",
    "\n",
    "# chain molecule\n",
    "peo_bulk = Molecule.from_file(\"PEOmonomer_bulk.xyz\")\n",
    "ff_map = [\"Ce\", \"H\", \"H\", \"O\", \"Cm\", \"H\", \"H\"]\n",
    "peo_bulk.add_site_property(\"ff_map\", ff_map)\n",
    "head = 0\n",
    "tail = 4\n",
    "\n",
    "# terminal molecule\n",
    "peo_end = Molecule.from_file(\"PEOmonomer_end.xyz\")\n",
    "ff_map = [\"Ce\", \"H\", \"H\", \"O\", \"Cm\", \"H\", \"H\", \"H\"]\n",
    "peo_end.add_site_property(\"ff_map\", ff_map)\n",
    "e_head = 0\n",
    "e_tail = 4"
   ]
  },
  {
   "cell_type": "markdown",
   "metadata": {},
   "source": [
    "Linear polymer chain"
   ]
  },
  {
   "cell_type": "code",
   "execution_count": 3,
   "metadata": {
    "collapsed": false
   },
   "outputs": [
    {
     "name": "stdout",
     "output_type": "stream",
     "text": [
      "length:  1\n",
      "length:  2\n",
      "length:  3\n",
      "length:  4\n",
      "length:  5\n",
      "length:  6\n",
      "length:  7\n",
      "length:  8\n",
      "length:  9\n"
     ]
    }
   ],
   "source": [
    "n_units = 8\n",
    "link_distance = 1.0\n",
    "\n",
    "# create the polymer\n",
    "peo_polymer_linear = Polymer(peo_start, s_head, s_tail, \n",
    "                      peo_bulk, head, tail, \n",
    "                      peo_end, e_head, e_tail, \n",
    "                      n_units, link_distance, linear_chain=True)\n",
    "\n",
    "peo_polymer_linear.molecule.to(filename=\"polymer_linear.xyz\", fmt=\"xyz\")"
   ]
  },
  {
   "cell_type": "markdown",
   "metadata": {},
   "source": [
    "Random walk polymer chain"
   ]
  },
  {
   "cell_type": "code",
   "execution_count": 4,
   "metadata": {
    "collapsed": false
   },
   "outputs": [
    {
     "name": "stdout",
     "output_type": "stream",
     "text": [
      "move 1\n",
      "length:  1\n",
      "move 5\n",
      "length:  2\n",
      "move 1\n",
      "length:  3\n",
      "move 6\n",
      "length:  4\n",
      "move 5\n",
      "move 1\n",
      "length:  5\n",
      "move 1\n",
      "length:  6\n",
      "move 5\n",
      "length:  7\n",
      "move 4\n",
      "length:  8\n",
      "move 6\n",
      "length:  9\n",
      "move 4\n",
      "move 4\n",
      "move 6\n",
      "length:  10\n",
      "move 2\n",
      "move 2\n",
      "move 3\n",
      "move 1\n",
      "length:  11\n"
     ]
    }
   ],
   "source": [
    "n_units = 10\n",
    "link_distance = 1.0\n",
    "\n",
    "# create the polymer\n",
    "peo_polymer = Polymer(peo_start, s_head, s_tail, \n",
    "                      peo_bulk, head, tail, \n",
    "                      peo_end, e_head, e_tail, \n",
    "                      n_units, link_distance)\n",
    "\n",
    "peo_polymer.molecule.to(filename=\"polymer.xyz\", fmt=\"xyz\")"
   ]
  },
  {
   "cell_type": "code",
   "execution_count": 5,
   "metadata": {
    "collapsed": false
   },
   "outputs": [
    {
     "name": "stdout",
     "output_type": "stream",
     "text": [
      "set([('Ce', 'O'), ('Ce', 'H'), ('Ce', 'Cm'), ('Cm', 'H'), ('Cm', 'O')])\n",
      "set([('Cm', 'H', 'Ce'), ('Ce', 'Cm', 'H'), ('Cm', 'O', 'Ce'), ('Ce', 'Cm', 'O'), ('Ce', 'H', 'H'), ('Cm', 'O', 'H'), ('O', 'Ce', 'Cm'), ('Ce', 'H', 'O'), ('Cm', 'H', 'H')])\n",
      "set([('Ce', 'Cm', 'O', 'O'), ('Ce', 'Cm', 'H', 'H'), ('Ce', 'Cm', 'H', 'O'), ('Ce', 'Cm', 'Cm', 'O'), ('Ce', 'Ce', 'Cm', 'O')])\n"
     ]
    }
   ],
   "source": [
    "atoms, bonds, angles, dihedrals = get_topology(peo_polymer_linear.molecule)\n",
    "print set([x[2] for x in bonds])\n",
    "print set([x[3] for x in angles])\n",
    "print set([x[4] for x in dihedrals])"
   ]
  },
  {
   "cell_type": "code",
   "execution_count": 6,
   "metadata": {
    "collapsed": false
   },
   "outputs": [
    {
     "name": "stdout",
     "output_type": "stream",
     "text": [
      "set([('Cm', 'H'), ('Ce', 'O'), ('Ce', 'Cm'), ('O', 'O'), ('Ce', 'H'), ('Cm', 'O')])\n",
      "set([('O', 'Ce', 'O'), ('Cm', 'H', 'Ce'), ('Ce', 'Cm', 'H'), ('Cm', 'O', 'Ce'), ('Ce', 'O', 'Cm'), ('Ce', 'Cm', 'O'), ('Ce', 'O', 'H'), ('Ce', 'H', 'H'), ('Cm', 'O', 'H'), ('O', 'Ce', 'Cm'), ('Ce', 'H', 'O'), ('Cm', 'H', 'H')])\n",
      "set([('Ce', 'H', 'O', 'O'), ('Ce', 'Cm', 'Cm', 'O'), ('Ce', 'Cm', 'H', 'H'), ('Ce', 'Cm', 'H', 'O'), ('Ce', 'Ce', 'Cm', 'O'), ('Ce', 'Cm', 'O', 'O')])\n"
     ]
    }
   ],
   "source": [
    "atoms, bonds, angles, dihedrals = get_topology(peo_polymer.molecule)\n",
    "print set([x[2] for x in bonds])\n",
    "print set([x[3] for x in angles])\n",
    "print set([x[4] for x in dihedrals])"
   ]
  },
  {
   "cell_type": "markdown",
   "metadata": {},
   "source": [
    "Use openbabel to optimize the polymer chain.\n",
    "Local optimization is used to preserve the chain structure."
   ]
  },
  {
   "cell_type": "code",
   "execution_count": 7,
   "metadata": {
    "collapsed": false
   },
   "outputs": [],
   "source": [
    "peo_obabel = BabelMolAdaptor(peo_polymer.molecule)\n",
    "# ['gaff', 'ghemical', 'mmff94', 'mmff94s', 'uff']\n",
    "peo_obabel.localopt(forcefield='mmff94', steps=500)\n",
    "peo_optimized = peo_obabel.pymatgen_mol"
   ]
  },
  {
   "cell_type": "markdown",
   "metadata": {},
   "source": [
    "Add the site property \"ff_map\" to the openbabel optimized polymer chain"
   ]
  },
  {
   "cell_type": "code",
   "execution_count": 8,
   "metadata": {
    "collapsed": true
   },
   "outputs": [],
   "source": [
    "ff_map = [site.ff_map for site in peo_polymer.molecule]\n",
    "peo_optimized.add_site_property(\"ff_map\", ff_map)\n",
    "peo_optimized.to(filename=\"polymer_optimized.xyz\", fmt=\"xyz\")"
   ]
  },
  {
   "cell_type": "markdown",
   "metadata": {},
   "source": [
    "Get the polymer topology: atoms, bonds, angles and dihedrals"
   ]
  },
  {
   "cell_type": "code",
   "execution_count": 9,
   "metadata": {
    "collapsed": false
   },
   "outputs": [
    {
     "name": "stdout",
     "output_type": "stream",
     "text": [
      "86 70 107 88\n"
     ]
    }
   ],
   "source": [
    "atoms, bonds, angles, dihedrals = get_topology(peo_optimized)\n",
    "\n",
    "print len(atoms), len(bonds), len(angles), len(dihedrals)"
   ]
  },
  {
   "cell_type": "markdown",
   "metadata": {},
   "source": [
    "Use Packmol to pack the optimized polymer chains into a box"
   ]
  },
  {
   "cell_type": "code",
   "execution_count": 10,
   "metadata": {
    "collapsed": false
   },
   "outputs": [
    {
     "name": "stdout",
     "output_type": "stream",
     "text": [
      "packed molecule written to poly_packed.xyz\n"
     ]
    }
   ],
   "source": [
    "from rubicon.io.packmol.packmol import PackmolRunner \n",
    "\n",
    "packmol_config = [{\"number\": 1, \"fixed\": [0, 0, 0, 0, 0, 0],\"centerofmass\": \"\"},\n",
    "                  {\"number\": 30, \"inside sphere\": [0, 0, 0, 200.0]}]\n",
    "pmr = PackmolRunner([peo_optimized, peo_optimized],\n",
    "                    packmol_config,\n",
    "                    tolerance=2.0,\n",
    "                    filetype=\"xyz\",\n",
    "                    control_params={\"nloop\": 1000},\n",
    "                    auto_box=False, output_file=\"poly_packed.xyz\")\n",
    "packed_polymer = pmr.run()"
   ]
  },
  {
   "cell_type": "code",
   "execution_count": null,
   "metadata": {
    "collapsed": true
   },
   "outputs": [],
   "source": []
  }
 ],
 "metadata": {
  "kernelspec": {
   "display_name": "Python 2",
   "language": "python",
   "name": "python2"
  },
  "language_info": {
   "codemirror_mode": {
    "name": "ipython",
    "version": 2
   },
   "file_extension": ".py",
   "mimetype": "text/x-python",
   "name": "python",
   "nbconvert_exporter": "python",
   "pygments_lexer": "ipython2",
   "version": "2.7.6"
  }
 },
 "nbformat": 4,
 "nbformat_minor": 0
}
