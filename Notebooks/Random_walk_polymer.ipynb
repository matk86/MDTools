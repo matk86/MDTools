{
 "cells": [
  {
   "cell_type": "markdown",
   "metadata": {},
   "source": [
    "This notebook does the following:\n",
    "\n",
    "    generate random walk polymer chain\n",
    "    local optimization using openbabel\n",
    "    packing of multiple polymer chains into the simulation box\n",
    "    Compute the system topology and read in the force field data\n",
    "    write the data file for lammps run\n",
    "\n",
    "Dependencies:\n",
    "\n",
    "    pymatgen(latest development version from github)\n",
    "    Polymers\n",
    "    packmol\n",
    "\n",
    "Required input files:\n",
    "\n",
    "    structures of start, bulk and terminal monomer molecules\n",
    "    appropriately formatted yaml forcefield data file"
   ]
  },
  {
   "cell_type": "code",
   "execution_count": 1,
   "metadata": {
    "collapsed": false
   },
   "outputs": [],
   "source": [
    "import numpy as np\n",
    "\n",
    "from pymatgen import Molecule\n",
    "from pymatgen.io.babel import BabelMolAdaptor\n",
    "\n",
    "from polymers.core import Polymer\n",
    "from polymers.packmol import PackmolRunner\n",
    "from polymers.utils import get_topology"
   ]
  },
  {
   "cell_type": "markdown",
   "metadata": {},
   "source": [
    "Set the start, bulk, and terminal molecules. Also set the forcefield species name mapping"
   ]
  },
  {
   "cell_type": "code",
   "execution_count": 2,
   "metadata": {
    "collapsed": false
   },
   "outputs": [
    {
     "name": "stdout",
     "output_type": "stream",
     "text": [
      "Full Formula (H8 C4 O2)\n",
      "Reduced Formula: H4C2O\n",
      "Charge = 0, Spin Mult = 1\n",
      "Sites (14)\n",
      "0 C     0.000000     0.000000     0.000000\n",
      "1 H    -0.372119    -0.517286    -0.901654\n",
      "2 H    -0.372119    -0.517286     0.901654\n",
      "3 O     1.507500     0.000000     0.000000\n",
      "4 C     1.944850    -1.342030     0.000000\n",
      "5 H     1.572730    -1.859320    -0.901654\n",
      "6 H     1.572730    -1.859320     0.901654\n",
      "7 C     3.452300    -1.354920     0.000000\n",
      "8 H     3.824420    -0.837637     0.901654\n",
      "9 H     3.824420    -0.837637    -0.901654\n",
      "10 O     3.878160    -2.700650     0.000000\n",
      "11 C     5.289610    -2.712720     0.000000\n",
      "12 H     5.661720    -2.195430     0.901654\n",
      "13 H     5.661720    -2.195430    -0.901654\n"
     ]
    }
   ],
   "source": [
    "# start molecule\n",
    "peo_start = Molecule.from_file(\"PEOmonomer_start.xyz\")\n",
    "ff_map = [\"C\", \"H\", \"H\", \"H\", \"O\", \"C\", \"H\", \"H\"]\n",
    "peo_start.add_site_property(\"ff_map\", ff_map)\n",
    "s_head = 0\n",
    "s_tail = 5\n",
    "\n",
    "# chain molecule\n",
    "peo_bulk = Molecule.from_file(\"PEOmonomer_bulk.xyz\")\n",
    "ff_map = [\"C\", \"H\", \"H\", \"O\", \"C\", \"H\", \"H\"]\n",
    "peo_bulk.add_site_property(\"ff_map\", ff_map)\n",
    "head = 0\n",
    "tail = 4\n",
    "\n",
    "# linear chain molecule (shortest repeat unit with correct connectivity between monomers)\n",
    "peo_bulk_linear = Molecule.from_file(\"peo_bulk_linear.xyz\")\n",
    "ff_map = [\"C\", \"H\", \"H\", \"O\", \"C\", \"H\", \"H\", \"C\", \"H\", \"H\", \"O\", \"C\", \"H\", \"H\"]\n",
    "peo_bulk_linear.add_site_property(\"ff_map\", ff_map)\n",
    "head_l = 0\n",
    "tail_l = 11\n",
    "\n",
    "# terminal molecule\n",
    "peo_end = Molecule.from_file(\"PEOmonomer_end.xyz\")\n",
    "ff_map = [\"C\", \"H\", \"H\", \"O\", \"C\", \"H\", \"H\", \"H\"]\n",
    "peo_end.add_site_property(\"ff_map\", ff_map)\n",
    "e_head = 0\n",
    "e_tail = 4\n",
    "\n",
    "print peo_bulk_linear"
   ]
  },
  {
   "cell_type": "markdown",
   "metadata": {},
   "source": [
    "Create polymer via random walk"
   ]
  },
  {
   "cell_type": "code",
   "execution_count": 3,
   "metadata": {
    "collapsed": false
   },
   "outputs": [],
   "source": [
    "n_units = 100\n",
    "link_distance = 1.0\n",
    "\n",
    "# create the polymer\n",
    "#peo_polymer = Polymer(peo_start, s_head, s_tail, \n",
    "                      #peo_bulk, head, tail, \n",
    "                      #peo_end, e_head, e_tail, \n",
    "                      #n_units, link_distance)\n",
    "\n",
    "# linear chain\n",
    "peo_polymer_linear = Polymer(peo_start, s_head, s_tail, \n",
    "                             peo_bulk_linear, head_l, tail_l, \n",
    "                             peo_end, e_head, e_tail, \n",
    "                             n_units, link_distance, linear_chain=True)\n",
    "\n",
    "peo_polymer_linear.molecule.to(filename=\"polymer_linear.xyz\", fmt=\"xyz\")"
   ]
  },
  {
   "cell_type": "markdown",
   "metadata": {},
   "source": [
    "Topology of the peo_polymer, from the linear chain"
   ]
  },
  {
   "cell_type": "code",
   "execution_count": null,
   "metadata": {
    "collapsed": false
   },
   "outputs": [],
   "source": [
    "from pymatgen.io.lammps.topology import Topology\n",
    "topology = Topology.from_molecule(peo_polymer_linear.molecule)\n",
    "print len(topology.atoms), len(topology.bonds), len(topology.angles), len(topology.dihedrals)"
   ]
  },
  {
   "cell_type": "markdown",
   "metadata": {},
   "source": [
    "Use Packmol to pack the polymer chains into a box"
   ]
  },
  {
   "cell_type": "code",
   "execution_count": null,
   "metadata": {
    "collapsed": false
   },
   "outputs": [],
   "source": [
    "# one polymer molecule is fixed at the origin, surrounded by 5 polymer chains within a radius of 200A\n",
    "packmol_config = [{\"number\": 1, \"fixed\": [0, 0, 0, 0, 0, 0],\"centerofmass\": \"\"},\n",
    "                  {\"number\": 5, \"inside sphere\": [0, 0, 0, 100.0]}]\n",
    "pmr = PackmolRunner([peo_polymer.molecule, peo_polymer.molecule],\n",
    "                    packmol_config,\n",
    "                    tolerance=2.0,\n",
    "                    filetype=\"xyz\",\n",
    "                    control_params={\"nloop\": 1000},\n",
    "                    auto_box=False, output_file=\"poly_packed.xyz\")\n",
    "packed_polymer = pmr.run()"
   ]
  },
  {
   "cell_type": "markdown",
   "metadata": {},
   "source": [
    "Read in the force field parameters"
   ]
  },
  {
   "cell_type": "code",
   "execution_count": null,
   "metadata": {
    "collapsed": true
   },
   "outputs": [],
   "source": [
    "from pymatgen.io.lammps.force_field import ForceField\n",
    "forcefield = ForceField.from_file(\"ff_data.yaml\")"
   ]
  },
  {
   "cell_type": "markdown",
   "metadata": {},
   "source": [
    "Generate lammps data file from the topology and the forcefield"
   ]
  },
  {
   "cell_type": "code",
   "execution_count": null,
   "metadata": {
    "collapsed": false
   },
   "outputs": [],
   "source": [
    "from pymatgen.io.lammps.data import LammpsForceFieldData\n",
    "\n",
    "mols = [peo_polymer.molecule]*2\n",
    "mols_number = [1, 5]\n",
    "box_size = [[0.0, 300.0], [0.0, 300.0], [0.0, 300.0]]\n",
    "molecule = packed_polymer\n",
    "topologies = [topology]*2\n",
    "lammps_ff_data = LammpsForceFieldData.from_forcefield_and_topology(mols, mols_number, \n",
    "                                                                   box_size, molecule, \n",
    "                                                                   forcefield, topologies)"
   ]
  },
  {
   "cell_type": "markdown",
   "metadata": {},
   "source": [
    "Write the data file(uncomment the write line)"
   ]
  },
  {
   "cell_type": "code",
   "execution_count": null,
   "metadata": {
    "collapsed": false
   },
   "outputs": [],
   "source": [
    "print str(lammps_ff_data)\n",
    "\n",
    "#write the data file\n",
    "#lammps_ff_data.write_data_file(\"lammps_data.dat\")"
   ]
  },
  {
   "cell_type": "code",
   "execution_count": null,
   "metadata": {
    "collapsed": true
   },
   "outputs": [],
   "source": []
  }
 ],
 "metadata": {
  "kernelspec": {
   "display_name": "Python 2",
   "language": "python",
   "name": "python2"
  },
  "language_info": {
   "codemirror_mode": {
    "name": "ipython",
    "version": 2
   },
   "file_extension": ".py",
   "mimetype": "text/x-python",
   "name": "python",
   "nbconvert_exporter": "python",
   "pygments_lexer": "ipython2",
   "version": "2.7.6"
  }
 },
 "nbformat": 4,
 "nbformat_minor": 0
}
