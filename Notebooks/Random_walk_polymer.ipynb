{
 "cells": [
  {
   "cell_type": "code",
   "execution_count": 1,
   "metadata": {
    "collapsed": true
   },
   "outputs": [],
   "source": [
    "import numpy as np\n",
    "\n",
    "import openbabel\n",
    "\n",
    "from pymatgen import Molecule\n",
    "from pymatgen.core.operations import SymmOp\n",
    "from pymatgen.util.coord_utils import get_angle\n",
    "from pymatgen.io.babel import BabelMolAdaptor"
   ]
  },
  {
   "cell_type": "code",
   "execution_count": 2,
   "metadata": {
    "collapsed": true
   },
   "outputs": [],
   "source": [
    "class Polymer(object):\n",
    "    def __init__(self, start_monomer, s_head, s_tail, \n",
    "                 monomer, head, tail, \n",
    "                 end_monomer, e_head, e_tail, \n",
    "                 n_units, link_distance=1.0, linear_chain=False):\n",
    "        \"\"\"\n",
    "        Args:\n",
    "            monomer (Molecule): The monomer\n",
    "            n_units (int): number of monomer units excluding the start and terminal molecules\n",
    "            head (int): index of the atom in the monomer that forms the head\n",
    "            tail (int): tail atom index. monomers will be connected from head to tail\n",
    "            link_distance (float): distance between consecutive monomers\n",
    "        \"\"\"\n",
    "        self.start = s_head\n",
    "        self.end = s_tail\n",
    "        self.monomer = monomer\n",
    "        self.n_units = n_units\n",
    "        self.link_distance = link_distance\n",
    "        #translate monomers so that head atom is at the origin\n",
    "        start_monomer.translate_sites(range(len(start_monomer)), - monomer.cart_coords[s_head])\n",
    "        monomer.translate_sites(range(len(monomer)), - monomer.cart_coords[head])\n",
    "        end_monomer.translate_sites(range(len(end_monomer)), - monomer.cart_coords[e_head])\n",
    "        self.mon_vector = monomer.cart_coords[tail] - monomer.cart_coords[head]\n",
    "        self.moves = {1:[1,0,0], 2:[0,1,0], 3:[0,0,1], 4:[-1,0,0], 5:[0,-1,0], 6:[0,0,-1]}\n",
    "        self.prev_move = 1\n",
    "        #places the start monomer at the beginning of the chain\n",
    "        self.molecule = start_monomer.copy()\n",
    "        self.length = 0\n",
    "        # create the chain\n",
    "        self._create(self.monomer, self.mon_vector, linear_chain)\n",
    "        # terminate the chain with the end_monomer\n",
    "        self.n_units += 1\n",
    "        end_mon_vector = end_monomer.cart_coords[e_tail] - end_monomer.cart_coords[e_head]\n",
    "        self._create(end_monomer, end_mon_vector, linear_chain)\n",
    "    \n",
    "    def _create(self, monomer, mon_vector, linear_chain):\n",
    "        \"\"\"\n",
    "        create the polymer from the monomer\n",
    "        \"\"\"\n",
    "        while self.length != self.n_units:\n",
    "            if linear_chain:\n",
    "                move_direction = np.array(mon_vector)/np.linalg.norm(mon_vector)\n",
    "            else:\n",
    "                move_direction = self._next_move_direction()\n",
    "            self._add_monomer(monomer.copy(), mon_vector, move_direction)\n",
    "            \n",
    "    def _next_move_direction(self):\n",
    "        \"\"\"\n",
    "        pick a move at random from the list of moves\n",
    "        \"\"\"\n",
    "        move = np.random.randint(1, 7)\n",
    "        while self.prev_move == (move + 3)%6:\n",
    "            move = np.random.randint(1, 7)\n",
    "        self.prev_move = move\n",
    "        print \"move\", move\n",
    "        return np.array(self.moves[move])\n",
    "    \n",
    "    def _align_monomer(self, monomer, mon_vector, move_direction):\n",
    "        \"\"\"\n",
    "        rotate the monomer so that it is aligned along the move direction\n",
    "        \"\"\"\n",
    "        axis = np.cross(mon_vector, move_direction)\n",
    "        origin = monomer[self.start].coords\n",
    "        angle = get_angle(mon_vector, move_direction)\n",
    "        #print \"axis, origin, angle\", axis, origin, angle\n",
    "        op = SymmOp.from_origin_axis_angle(origin, axis, angle)\n",
    "        monomer.apply_operation(op)\n",
    "\n",
    "    def _add_monomer(self, monomer, mon_vector, move_direction):\n",
    "        \"\"\"\n",
    "        extend the polymer molecule by adding a monomer along mon_vector direction\n",
    "        \n",
    "        Args:\n",
    "            monomer (Molecule): monomer molecule\n",
    "            mon_vector (numpy.array): monomer vector that points from head to tail.\n",
    "            move_direction (numpy.array): direction along which the monomer will be positioned\n",
    "        \"\"\"\n",
    "        translate_by = self.molecule.cart_coords[self.end] + self.link_distance * move_direction\n",
    "        monomer.translate_sites(range(len(monomer)), translate_by)\n",
    "        self._align_monomer(monomer, mon_vector, move_direction)\n",
    "        # add monomer if there are no crossings\n",
    "        does_cross = False\n",
    "        for i, site in enumerate(monomer):\n",
    "            try:\n",
    "                self.molecule.append(site.specie, site.coords, properties=site.properties)\n",
    "            except:\n",
    "                does_cross = True\n",
    "                polymer_length = len(self.molecule)\n",
    "                self.molecule.remove_sites(range(polymer_length-i, polymer_length))\n",
    "                break\n",
    "        if not does_cross:\n",
    "            self.length += 1\n",
    "            self.end += len(self.monomer)\n",
    "            print \"length: \", self.length"
   ]
  },
  {
   "cell_type": "markdown",
   "metadata": {},
   "source": [
    "Get the molecular topology info using openbabel"
   ]
  },
  {
   "cell_type": "code",
   "execution_count": 3,
   "metadata": {
    "collapsed": true
   },
   "outputs": [],
   "source": [
    "def get_topology(molecule):\n",
    "    bma = BabelMolAdaptor(molecule)\n",
    "    obmol = bma.openbabel_mol\n",
    "    #print obmol.NumAtoms(), obmol.NumBonds()\n",
    "    atoms = [x.GetIdx()-1 for x in openbabel.OBMolAtomIter(obmol)]\n",
    "    bonds = [[x.GetBeginAtomIdx()-1, x.GetEndAtomIdx()-1] for x in openbabel.OBMolBondIter(obmol)]\n",
    "    angles = [list(x) for x in openbabel.OBMolAngleIter(obmol)]\n",
    "    dihedrals = [list(x) for x in openbabel.OBMolTorsionIter(obmol)]\n",
    "    #print len(atoms), len(bonds), len(angles), len(dihedrals)\n",
    "    atoms = [tuple([str(molecule[x].specie), \n",
    "                    molecule[x].ff_map]) for x in atoms ]\n",
    "    bonds = [x+[tuple(sorted((molecule[x[0]].ff_map, \n",
    "                              molecule[x[1]].ff_map)))] for x in bonds ]\n",
    "    angles = [x+[tuple(((molecule[x[0]].ff_map, \n",
    "                         molecule[x[1]].ff_map, \n",
    "                         molecule[x[2]].ff_map)))] for x in angles ]\n",
    "    dihedrals =  [x+[tuple(sorted((molecule[x[0]].ff_map, \n",
    "                                   molecule[x[1]].ff_map, \n",
    "                                   molecule[x[2]].ff_map, \n",
    "                                   molecule[x[3]].ff_map)))] for x in dihedrals ]\n",
    "    return atoms, bonds, angles, dihedrals"
   ]
  },
  {
   "cell_type": "markdown",
   "metadata": {},
   "source": [
    "Set the start, bulk and terminal molecules. Also set the forcefield species name mapping"
   ]
  },
  {
   "cell_type": "code",
   "execution_count": 4,
   "metadata": {
    "collapsed": false
   },
   "outputs": [],
   "source": [
    "# start molecule\n",
    "peo_start = Molecule.from_file(\"PEOmonomer_start.xyz\")\n",
    "ff_map = [\"Ce\", \"H\", \"H\", \"H\", \"O\", \"Cm\", \"H\", \"H\"]\n",
    "peo_start.add_site_property(\"ff_map\", ff_map)\n",
    "s_head = 0\n",
    "s_tail = 5\n",
    "\n",
    "# chain molecule\n",
    "peo_bulk = Molecule.from_file(\"PEOmonomer_bulk.xyz\")\n",
    "ff_map = [\"Ce\", \"H\", \"H\", \"O\", \"Cm\", \"H\", \"H\"]\n",
    "peo_bulk.add_site_property(\"ff_map\", ff_map)\n",
    "head = 0\n",
    "tail = 4\n",
    "\n",
    "# terminal molecule\n",
    "peo_end = Molecule.from_file(\"PEOmonomer_end.xyz\")\n",
    "ff_map = [\"Ce\", \"H\", \"H\", \"O\", \"Cm\", \"H\", \"H\", \"H\"]\n",
    "peo_end.add_site_property(\"ff_map\", ff_map)\n",
    "e_head = 0\n",
    "e_tail = 4"
   ]
  },
  {
   "cell_type": "markdown",
   "metadata": {},
   "source": [
    "Linear polymer chain"
   ]
  },
  {
   "cell_type": "code",
   "execution_count": 5,
   "metadata": {
    "collapsed": false
   },
   "outputs": [
    {
     "name": "stdout",
     "output_type": "stream",
     "text": [
      "length:  1\n",
      "length:  2\n",
      "length:  3\n",
      "length:  4\n"
     ]
    }
   ],
   "source": [
    "n_units = 3\n",
    "link_distance = 3.0\n",
    "\n",
    "# create the polymer\n",
    "peo_polymer = Polymer(peo_start, s_head, s_tail, \n",
    "                      peo_bulk, head, tail, \n",
    "                      peo_end, e_head, e_tail, \n",
    "                      n_units, link_distance, linear_chain=True)\n",
    "\n",
    "peo_polymer.molecule.to(filename=\"polymer_linear.xyz\", fmt=\"xyz\")"
   ]
  },
  {
   "cell_type": "markdown",
   "metadata": {},
   "source": [
    "Get the topology of the linear chain"
   ]
  },
  {
   "cell_type": "code",
   "execution_count": 6,
   "metadata": {
    "collapsed": false
   },
   "outputs": [],
   "source": [
    "atoms, bonds, angles, dihedrals = get_topology(peo_polymer.molecule)"
   ]
  },
  {
   "cell_type": "markdown",
   "metadata": {},
   "source": [
    "Print unique bonds, angles and dihedrals in the linear chain"
   ]
  },
  {
   "cell_type": "code",
   "execution_count": 7,
   "metadata": {
    "collapsed": false
   },
   "outputs": [
    {
     "name": "stdout",
     "output_type": "stream",
     "text": [
      "set([('Ce', 'H'), ('Ce', 'O'), ('Cm', 'H'), ('Cm', 'O')])\n",
      "set([('Cm', 'O', 'H'), ('Cm', 'H', 'H'), ('O', 'Ce', 'Cm'), ('Ce', 'H', 'O'), ('Ce', 'H', 'H')])\n",
      "set([('Ce', 'Cm', 'H', 'O')])\n"
     ]
    }
   ],
   "source": [
    "print set([x[2] for x in bonds])\n",
    "print set([x[3] for x in angles])\n",
    "print set([x[4] for x in dihedrals])"
   ]
  },
  {
   "cell_type": "markdown",
   "metadata": {},
   "source": [
    "Random walk polymer chain"
   ]
  },
  {
   "cell_type": "code",
   "execution_count": 8,
   "metadata": {
    "collapsed": false
   },
   "outputs": [
    {
     "name": "stdout",
     "output_type": "stream",
     "text": [
      "move 6\n",
      "length:  1\n",
      "move 5\n",
      "length:  2\n",
      "move 3\n",
      "length:  3\n",
      "move 5\n",
      "length:  4\n",
      "move 6\n",
      "length:  5\n",
      "move 3\n",
      "move 1\n",
      "length:  6\n",
      "move 2\n",
      "length:  7\n",
      "move 6\n",
      "length:  8\n",
      "move 6\n",
      "length:  9\n",
      "move 3\n",
      "move 3\n",
      "move 5\n",
      "length:  10\n",
      "move 1\n",
      "length:  11\n"
     ]
    }
   ],
   "source": [
    "n_units = 10\n",
    "link_distance = 3.0\n",
    "\n",
    "# create the polymer\n",
    "peo_polymer = Polymer(peo_start, s_head, s_tail, \n",
    "                      peo_bulk, head, tail, \n",
    "                      peo_end, e_head, e_tail, \n",
    "                      n_units, link_distance)\n",
    "\n",
    "peo_polymer.molecule.to(filename=\"polymer.xyz\", fmt=\"xyz\")"
   ]
  },
  {
   "cell_type": "markdown",
   "metadata": {},
   "source": [
    "Use openbabel to optimize the polymer chain.\n",
    "Local optimization is used to preserve the chain structure."
   ]
  },
  {
   "cell_type": "code",
   "execution_count": 9,
   "metadata": {
    "collapsed": false
   },
   "outputs": [],
   "source": [
    "peo_obabel = BabelMolAdaptor(peo_polymer.molecule)\n",
    "# ['gaff', 'ghemical', 'mmff94', 'mmff94s', 'uff']\n",
    "peo_obabel.localopt(forcefield='mmff94', steps=500)\n",
    "peo_optimized = peo_obabel.pymatgen_mol"
   ]
  },
  {
   "cell_type": "markdown",
   "metadata": {},
   "source": [
    "Add the site property \"ff_map\" to the openbabel optimized polymer chain"
   ]
  },
  {
   "cell_type": "code",
   "execution_count": 10,
   "metadata": {
    "collapsed": true
   },
   "outputs": [],
   "source": [
    "ff_map = [site.ff_map for site in peo_polymer.molecule]\n",
    "peo_optimized.add_site_property(\"ff_map\", ff_map)\n",
    "peo_optimized.to(filename=\"polymer_optimized.xyz\", fmt=\"xyz\")"
   ]
  },
  {
   "cell_type": "markdown",
   "metadata": {},
   "source": [
    "Get the polymer topology: atoms, bonds, angles and dihedrals"
   ]
  },
  {
   "cell_type": "code",
   "execution_count": 11,
   "metadata": {
    "collapsed": false
   },
   "outputs": [
    {
     "name": "stdout",
     "output_type": "stream",
     "text": [
      "86 74 90 50\n"
     ]
    }
   ],
   "source": [
    "atoms, bonds, angles, dihedrals = get_topology(peo_optimized)\n",
    "\n",
    "print len(atoms), len(bonds), len(angles), len(dihedrals)"
   ]
  },
  {
   "cell_type": "markdown",
   "metadata": {},
   "source": [
    "Use Packmol to pack the optimized polymer chains into a box"
   ]
  },
  {
   "cell_type": "code",
   "execution_count": 12,
   "metadata": {
    "collapsed": false
   },
   "outputs": [
    {
     "name": "stdout",
     "output_type": "stream",
     "text": [
      "packed molecule written to poly_packed.xyz\n"
     ]
    }
   ],
   "source": [
    "from rubicon.io.packmol.packmol import PackmolRunner \n",
    "\n",
    "packmol_config = [{\"number\": 1, \"fixed\": [0, 0, 0, 0, 0, 0],\"centerofmass\": \"\"},\n",
    "                  {\"number\": 30, \"inside sphere\": [0, 0, 0, 200.0]}]\n",
    "pmr = PackmolRunner([peo_optimized, peo_optimized],\n",
    "                    packmol_config,\n",
    "                    tolerance=2.0,\n",
    "                    filetype=\"xyz\",\n",
    "                    control_params={\"nloop\": 1000},\n",
    "                    auto_box=False, output_file=\"poly_packed.xyz\")\n",
    "packed_polymer = pmr.run()"
   ]
  },
  {
   "cell_type": "code",
   "execution_count": null,
   "metadata": {
    "collapsed": true
   },
   "outputs": [],
   "source": []
  }
 ],
 "metadata": {
  "kernelspec": {
   "display_name": "Python 2",
   "language": "python",
   "name": "python2"
  },
  "language_info": {
   "codemirror_mode": {
    "name": "ipython",
    "version": 2
   },
   "file_extension": ".py",
   "mimetype": "text/x-python",
   "name": "python",
   "nbconvert_exporter": "python",
   "pygments_lexer": "ipython2",
   "version": "2.7.6"
  }
 },
 "nbformat": 4,
 "nbformat_minor": 0
}
