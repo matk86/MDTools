{
 "cells": [
  {
   "cell_type": "code",
   "execution_count": 1,
   "metadata": {
    "collapsed": true
   },
   "outputs": [],
   "source": [
    "import numpy as np\n",
    "\n",
    "from pymatgen import Molecule\n",
    "from pymatgen.core.operations import SymmOp\n",
    "from pymatgen.util.coord_utils import get_angle"
   ]
  },
  {
   "cell_type": "code",
   "execution_count": 2,
   "metadata": {
    "collapsed": true
   },
   "outputs": [],
   "source": [
    "class Polymer(object):\n",
    "    #reordered variables start -> middle -> end n_units link_dist\n",
    "    def __init__(self, start_monomer, s_head, s_tail, monomer, head, tail, end_monomer, e_head, e_tail, n_units, link_distance=1.0):\n",
    "        \"\"\"\n",
    "        Args:\n",
    "            monomer (Molecule): The monomer\n",
    "            n_units (int): number of monomer units\n",
    "            head (int): index of the atom in the monomer that forms the head\n",
    "            tail (int): tail atom index. monomers will be connected from head to tail\n",
    "            link_distance (float): distance between consecutive monomers\n",
    "        \"\"\"\n",
    "        #add start and end monomer gives flexibility on end groups\n",
    "        self.start_monomer = start_monomer\n",
    "        self.start = s_head\n",
    "        self.end = s_tail\n",
    "        self.monomer = monomer\n",
    "        self.end_monomer = end_monomer\n",
    "        self.n_units = n_units\n",
    "        self.link_distance = link_distance\n",
    "        #translate monomer so head atom is at the origin\n",
    "        start_monomer.translate_sites(range(len(monomer)), - monomer.cart_coords[s_head])\n",
    "        monomer.translate_sites(range(len(monomer)), - monomer.cart_coords[head])\n",
    "        end_monomer.translate_sites(range(len(monomer)), - monomer.cart_coords[e_head])\n",
    "        self.mon_vector = monomer.cart_coords[tail] - monomer.cart_coords[head]\n",
    "        #add vector for terminal monomer\n",
    "        self.end_mon_vector = end_monomer.cart_coords[e_tail] - end_monomer.cart_coords[e_head]\n",
    "        self.moves = {1:[1,0,0], 2:[0,1,0], 3:[0,0,1], 4:[-1,0,0], 5:[0,-1,0], 6:[0,0,-1]}\n",
    "        self.nmoves = len(self.moves.keys())\n",
    "        self.prev_move = 1\n",
    "        #places the start monomer at the beginning of the chain\n",
    "        self.molecule = self.start_monomer.copy()\n",
    "        self.length = 1\n",
    "        self._create()\n",
    "    \n",
    "    def _create(self):\n",
    "        \"\"\"\n",
    "        create the polymer from the monomer by random walk\n",
    "        \"\"\"\n",
    "        #subtract 1 for the start monomer\n",
    "        while self.length != (self.n_units - 1):\n",
    "            monomer = self.monomer.copy()\n",
    "            mon_vector = self.mon_vector\n",
    "            self._add_monomer(monomer, mon_vector)\n",
    "        \n",
    "        end_monomer = self.end_monomer.copy()\n",
    "        end_mon_vector = self.end_mon_vector\n",
    "        self._add_terminal_monomer(end_monomer, end_mon_vector)\n",
    "            \n",
    "    def _next_move_direction(self):\n",
    "        \"\"\"\n",
    "        pick a move at random from the list of moves\n",
    "        \"\"\"\n",
    "        move = np.random.randint(1, self.nmoves+1)\n",
    "        while self.prev_move == (move + 3)%6:\n",
    "            move = np.random.randint(1, self.nmoves+1)\n",
    "        self.prev_move = move\n",
    "        print \"move\", move\n",
    "        return np.array(self.moves[move])\n",
    "    \n",
    "    def _align_monomer(self, monomer, mon_vector, move_direction):\n",
    "        \"\"\"\n",
    "        rotate the monomer so that it is aligned along the move direction\n",
    "        \"\"\"\n",
    "        axis = np.cross(mon_vector, move_direction)\n",
    "        origin = monomer[self.start].coords\n",
    "        angle = get_angle(mon_vector, move_direction)\n",
    "        #print \"axis, origin, angle\", axis, origin, angle\n",
    "        op = SymmOp.from_origin_axis_angle(origin, axis, angle)\n",
    "        monomer.apply_operation(op)\n",
    "\n",
    "    def _add_monomer(self, monomer, mon_vector):\n",
    "        \"\"\"\n",
    "        extend the polymer molecule by adding a monomer\n",
    "        \"\"\"\n",
    "        #monomer = self.monomer.copy()\n",
    "        move_direction = self._next_move_direction()\n",
    "        translate_by = self.molecule.cart_coords[self.end] + self.link_distance * move_direction\n",
    "        monomer.translate_sites(range(len(monomer)), translate_by)\n",
    "        self._align_monomer(monomer, mon_vector, move_direction)\n",
    "        # add monomer if there are no crossings\n",
    "        does_cross = False\n",
    "        for i, site in enumerate(monomer):\n",
    "            try:\n",
    "                self.molecule.append(site.specie, site.coords)\n",
    "            except:\n",
    "                does_cross = True\n",
    "                polymer_length = len(self.molecule)\n",
    "                self.molecule.remove_sites(range(polymer_length-i, polymer_length))\n",
    "                break\n",
    "        if not does_cross:\n",
    "            self.length += 1\n",
    "            self.end += len(self.monomer)\n",
    "            print \"length: \", self.length\n",
    "            \n",
    "    # this is unnecessary could just call _add_monomer in create???\n",
    "    def _add_terminal_monomer(self, monomer, mon_vector):\n",
    "        \"\"\"\n",
    "        add the last monomer unit\n",
    "        \"\"\"\n",
    "        self._add_monomer(monomer, mon_vector)\n",
    "        "
   ]
  },
  {
   "cell_type": "code",
   "execution_count": 3,
   "metadata": {
    "collapsed": false
   },
   "outputs": [
    {
     "name": "stdout",
     "output_type": "stream",
     "text": [
      "move 6\n",
      "length:  2\n",
      "move 3\n",
      "move 1\n",
      "length:  3\n",
      "move 1\n",
      "length:  4\n",
      "move 5\n",
      "length:  5\n",
      "move 3\n",
      "length:  6\n",
      "move 3\n",
      "length:  7\n",
      "move 3\n",
      "length:  8\n",
      "move 4\n",
      "length:  9\n",
      "move 4\n",
      "length:  10\n"
     ]
    }
   ],
   "source": [
    "peo_start = Molecule.from_file(\"PEOmonomer_start.xyz\")\n",
    "s_head = 0\n",
    "s_tail = 5\n",
    "peo_bulk = Molecule.from_file(\"PEOmonomer_bulk.xyz\")\n",
    "head = 0\n",
    "tail = 4\n",
    "peo_end = Molecule.from_file(\"PEOmonomer_end.xyz\")\n",
    "e_head = 0\n",
    "e_tail = 4\n",
    "n_units = 10\n",
    "link_distance = 3.0\n",
    "\n",
    "# create the polymer\n",
    "peo_polymer = Polymer(peo_start, s_head, s_tail, peo_bulk, head, tail, peo_end, e_head, e_tail, n_units, link_distance)"
   ]
  },
  {
   "cell_type": "code",
   "execution_count": 10,
   "metadata": {
    "collapsed": false
   },
   "outputs": [],
   "source": [
    "# write the polymer molecule\n",
    "peo_polymer.molecule.to(filename=\"polymer.xyz\", fmt=\"xyz\")"
   ]
  },
  {
   "cell_type": "markdown",
   "metadata": {},
   "source": [
    "Use openbabel to optimize the polymer chain.\n",
    "Local optimization is used to preserve the chain structure."
   ]
  },
  {
   "cell_type": "code",
   "execution_count": 5,
   "metadata": {
    "collapsed": false
   },
   "outputs": [],
   "source": [
    "from pymatgen.io.babel import BabelMolAdaptor\n",
    "\n",
    "peo_obabel = BabelMolAdaptor(peo_polymer.molecule)\n",
    "# ['gaff', 'ghemical', 'mmff94', 'mmff94s', 'uff']\n",
    "peo_obabel.localopt(forcefield='mmff94', steps=500)\n",
    "peo_optimized = peo_obabel.pymatgen_mol\n",
    "peo_optimized.to(filename=\"polymer_optimized.xyz\", fmt=\"xyz\")"
   ]
  },
  {
   "cell_type": "markdown",
   "metadata": {},
   "source": [
    "Get the polymer topology: atoms, bonds, angles and dihedrals"
   ]
  },
  {
   "cell_type": "code",
   "execution_count": 6,
   "metadata": {
    "collapsed": false
   },
   "outputs": [
    {
     "name": "stdout",
     "output_type": "stream",
     "text": [
      "900 641 700 6\n"
     ]
    }
   ],
   "source": [
    "import openbabel\n",
    "\n",
    "obmol = peo_obabel.openbabel_mol\n",
    "\n",
    "atoms = [x.GetIdx()-1 for x in openbabel.OBMolAtomIter(obmol)]\n",
    "bonds = [[x.GetBeginAtomIdx()-1, x.GetEndAtomIdx()-1] \n",
    "         for x in openbabel.OBMolBondIter(obmol)] \n",
    "angles = [list(x) for x in openbabel.OBMolAngleIter(obmol)]\n",
    "dihedrals = [list(x) for x in openbabel.OBMolTorsionIter(obmol)]\n",
    "\n",
    "print len(atoms), len(bonds), len(angles), len(dihedrals)"
   ]
  }
 ],
 "metadata": {
  "kernelspec": {
   "display_name": "Python 2",
   "language": "python",
   "name": "python2"
  },
  "language_info": {
   "codemirror_mode": {
    "name": "ipython",
    "version": 2
   },
   "file_extension": ".py",
   "mimetype": "text/x-python",
   "name": "python",
   "nbconvert_exporter": "python",
   "pygments_lexer": "ipython2",
   "version": "2.7.10"
  }
 },
 "nbformat": 4,
 "nbformat_minor": 0
}
