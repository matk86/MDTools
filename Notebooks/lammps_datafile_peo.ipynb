{
 "cells": [
  {
   "cell_type": "markdown",
   "metadata": {},
   "source": [
    "This notebook does the following:\n",
    "\n",
    "    generate random walk polymer chain\n",
    "    local optimization using openbabel\n",
    "    packing of multiple polymer chains into the simulation box\n",
    "    Compute the system topology and read in the force field data\n",
    "    write the data file for lammps run\n",
    "\n",
    "Dependencies:\n",
    "\n",
    "    pymatgen(latest development version from github)\n",
    "    Polymers\n",
    "    packmol\n",
    "\n",
    "Required input files:\n",
    "\n",
    "    structures of start, bulk and terminal monomer molecules\n",
    "    appropriately formatted yaml forcefield data file"
   ]
  },
  {
   "cell_type": "code",
   "execution_count": 1,
   "metadata": {
    "collapsed": false
   },
   "outputs": [],
   "source": [
    "import numpy as np\n",
    "\n",
    "from pymatgen import Molecule\n",
    "from pymatgen.io.babel import BabelMolAdaptor\n",
    "\n",
    "from polymers.core import Polymer\n",
    "from polymers.packmol import PackmolRunner\n",
    "from polymers.utils import get_topology"
   ]
  },
  {
   "cell_type": "markdown",
   "metadata": {},
   "source": [
    "Set the start, bulk, and terminal molecules. Also set the forcefield species name mapping"
   ]
  },
  {
   "cell_type": "code",
   "execution_count": 2,
   "metadata": {
    "collapsed": false
   },
   "outputs": [],
   "source": [
    "# start molecule\n",
    "peo_start = Molecule.from_file(\"PEOmonomer_start.xyz\")\n",
    "s_charges = [-0.1187, 0.0861, 0.0861, 0.0861, \n",
    "             -0.2792, -0.0326, 0.0861, 0.0861]\n",
    "peo_start.add_site_property(\"charge\", s_charges)\n",
    "#ff_map = [\"C\", \"H\", \"H\", \"H\", \"O\", \"C\", \"H\", \"H\"]\n",
    "#peo_start.add_site_property(\"ff_map\", ff_map)\n",
    "s_head = 0\n",
    "s_tail = 5\n",
    "\n",
    "# chain molecule\n",
    "peo_bulk = Molecule.from_file(\"PEOmonomer_bulk.xyz\")\n",
    "b_charges = [-0.0326, 0.0861, 0.0861, -0.2792, \n",
    "             -0.0326, 0.0861, 0.0861]\n",
    "peo_bulk.add_site_property(\"charge\", b_charges)\n",
    "#ff_map = [\"C\", \"H\", \"H\", \"O\", \"C\", \"H\", \"H\"]\n",
    "#peo_bulk.add_site_property(\"ff_map\", ff_map)\n",
    "head = 0\n",
    "tail = 4\n",
    "\n",
    "# terminal molecule\n",
    "peo_end = Molecule.from_file(\"PEOmonomer_end.xyz\")\n",
    "e_charges = [-0.0326, 0.0861, 0.0861, -0.2792, \n",
    "             -0.1187, 0.0861, 0.0861, 0.0861]\n",
    "peo_end.add_site_property(\"charge\", e_charges)\n",
    "#ff_map = [\"C\", \"H\", \"H\", \"O\", \"C\", \"H\", \"H\", \"H\"]\n",
    "#peo_end.add_site_property(\"ff_map\", ff_map)\n",
    "e_head = 0\n",
    "e_tail = 4"
   ]
  },
  {
   "cell_type": "markdown",
   "metadata": {},
   "source": [
    "Create polymer via random walk"
   ]
  },
  {
   "cell_type": "code",
   "execution_count": 3,
   "metadata": {
    "collapsed": false
   },
   "outputs": [],
   "source": [
    "n_units = 4\n",
    "link_distance = 1.5075\n",
    "\n",
    "# create the polymer\n",
    "peo_polymer = Polymer(peo_start, s_head, s_tail, \n",
    "                      peo_bulk, head, tail, \n",
    "                      peo_end, e_head, e_tail, \n",
    "                      n_units, link_distance)\n",
    "\n",
    "# linear chain\n",
    "peo_polymer_linear = Polymer(peo_start, s_head, s_tail, \n",
    "                             peo_bulk, head, tail, \n",
    "                             peo_end, e_head, e_tail, \n",
    "                             n_units, link_distance, linear_chain=True)\n",
    "\n",
    "peo_polymer.molecule.to(filename=\"polymer.xyz\", fmt=\"xyz\")\n",
    "#peo_polymer.molecule.get_covalent_bonds(tol=0.1)"
   ]
  },
  {
   "cell_type": "markdown",
   "metadata": {},
   "source": [
    "Topology of the peo_polymer, from the linear chain"
   ]
  },
  {
   "cell_type": "code",
   "execution_count": 4,
   "metadata": {
    "collapsed": false
   },
   "outputs": [
    {
     "name": "stdout",
     "output_type": "stream",
     "text": [
      "30 29 52 51\n",
      "[[0, 1, ('C', 'H')], [0, 2, ('C', 'H')], [0, 3, ('C', 'H')], [0, 4, ('C', 'O')], [4, 5, ('O', 'C')], [5, 6, ('C', 'H')], [5, 7, ('C', 'H')], [5, 8, ('C', 'C')], [8, 9, ('C', 'H')], [8, 10, ('C', 'H')], [8, 11, ('C', 'O')], [11, 12, ('O', 'C')], [12, 13, ('C', 'H')], [12, 14, ('C', 'H')], [12, 15, ('C', 'C')], [15, 16, ('C', 'H')], [15, 17, ('C', 'H')], [15, 18, ('C', 'O')], [18, 19, ('O', 'C')], [19, 20, ('C', 'H')], [19, 21, ('C', 'H')], [19, 22, ('C', 'C')], [22, 23, ('C', 'H')], [22, 24, ('C', 'H')], [22, 25, ('C', 'O')], [25, 26, ('O', 'C')], [26, 27, ('C', 'H')], [26, 28, ('C', 'H')], [26, 29, ('C', 'H')]]\n"
     ]
    }
   ],
   "source": [
    "from pymatgen.io.lammps.topology import Topology\n",
    "topology = Topology.from_molecule(peo_polymer_linear.molecule)\n",
    "print len(topology.atoms), len(topology.bonds), len(topology.angles), len(topology.dihedrals)\n",
    "print topology.bonds"
   ]
  },
  {
   "cell_type": "markdown",
   "metadata": {},
   "source": [
    "Use Packmol to pack the polymer chains into a box"
   ]
  },
  {
   "cell_type": "code",
   "execution_count": 5,
   "metadata": {
    "collapsed": false
   },
   "outputs": [
    {
     "name": "stdout",
     "output_type": "stream",
     "text": [
      "packed molecule written to poly_packed.xyz\n"
     ]
    }
   ],
   "source": [
    "# one polymer molecule is fixed at the origin, surrounded by 5 polymer chains within a radius of 200A\n",
    "packmol_config = [{\"number\": 1, \"fixed\": [0, 0, 0, 0, 0, 0],\"centerofmass\": \"\"}]\n",
    "                  #{\"number\": 5, \"inside sphere\": [0, 0, 0, 100.0]}]\n",
    "pmr = PackmolRunner([peo_polymer.molecule],\n",
    "                    packmol_config,\n",
    "                    tolerance=2.0,\n",
    "                    filetype=\"xyz\",\n",
    "                    control_params={\"nloop\": 1000},\n",
    "                    auto_box=False, output_file=\"poly_packed.xyz\")\n",
    "packed_polymer = pmr.run()"
   ]
  },
  {
   "cell_type": "markdown",
   "metadata": {},
   "source": [
    "Read in the force field parameters"
   ]
  },
  {
   "cell_type": "code",
   "execution_count": 6,
   "metadata": {
    "collapsed": false
   },
   "outputs": [],
   "source": [
    "from pymatgen.io.lammps.force_field import ForceField\n",
    "forcefield = ForceField.from_file(\"ff_data.yaml\")"
   ]
  },
  {
   "cell_type": "markdown",
   "metadata": {},
   "source": [
    "Generate lammps data file from the topology and the forcefield"
   ]
  },
  {
   "cell_type": "code",
   "execution_count": 7,
   "metadata": {
    "collapsed": false
   },
   "outputs": [],
   "source": [
    "from pymatgen.io.lammps.data import LammpsForceFieldData\n",
    "\n",
    "mols = [peo_polymer.molecule]\n",
    "mols_number = [1]\n",
    "box_size = [[0.0, 300.0], [0.0, 300.0], [0.0, 300.0]]\n",
    "molecule = packed_polymer\n",
    "topologies = [topology]\n",
    "lammps_ff_data = LammpsForceFieldData.from_forcefield_and_topology(mols, mols_number, \n",
    "                                                                   box_size, molecule, \n",
    "                                                                   forcefield, topologies)"
   ]
  },
  {
   "cell_type": "markdown",
   "metadata": {},
   "source": [
    "Write the data file(uncomment the write line)"
   ]
  },
  {
   "cell_type": "code",
   "execution_count": 8,
   "metadata": {
    "collapsed": false
   },
   "outputs": [
    {
     "name": "stdout",
     "output_type": "stream",
     "text": [
      "Data file generated by pymatgen\n",
      "\n",
      "30 atoms\n",
      "29 bonds\n",
      "52 angles\n",
      "51 dihedrals\n",
      "\n",
      "3 atom types\n",
      "3 bond types\n",
      "5 angle types\n",
      "5 dihedral types\n",
      "\n",
      "0.0 300.0 xlo xhi\n",
      "0.0 300.0 ylo yhi\n",
      "0.0 300.0 zlo zhi\n",
      "\n",
      "Masses \n",
      "\n",
      "1 1.00794\n",
      "2 12.0107\n",
      "3 15.9994\n",
      "\n",
      "Pair Coeffs \n",
      "\n",
      "1 75844.8 0.2461 396.9\n",
      "2 33702.4 0.2796 503.0\n",
      "3 2649.6 0.2674 27.22\n",
      "4 4320.0 0.2928 137.6\n",
      "5 14976.0 0.3236 637.6\n",
      "\n",
      "Bond Coeffs \n",
      "\n",
      "1 1000 1.4115\n",
      "2 1000 1.1041\n",
      "3 1000 1.5075\n",
      "\n",
      "Angle Coeffs \n",
      "\n",
      "1 42.9 110.1\n",
      "2 38.5 109.47\n",
      "3 56.0 109.48\n",
      "4 86.0 108.54\n",
      "5 74.5 108.05\n",
      "\n",
      "Dihedral Coeffs \n",
      "\n",
      "1 0.0 0.0 -0.73 0.0\n",
      "2 0.0 0.0 0.28 0.0\n",
      "3 1.76 0.67 0.04 0.0\n",
      "4 0.0 0.0 0.28 0.0\n",
      "5 0.41 -2.1 -0.6 -0.82\n",
      "\n",
      "Atoms \n",
      "\n",
      "1 1 1 -0.1187 147.118902869 153.65263524 152.604899844\n",
      "2 1 1 0.0861 147.103442869 152.12653524 151.703249844\n",
      "3 1 1 0.0861 147.103442869 152.12653524 153.506549844\n",
      "4 1 1 0.0861 149.048292869 150.78450524 151.703249844\n",
      "5 1 1 -0.2792 149.048292869 150.78450524 153.506549844\n",
      "6 1 1 -0.0326 148.316452869 151.28951524 151.109889844\n",
      "7 1 1 0.0861 149.800692869 150.26532524 151.109889844\n",
      "8 1 1 0.0861 148.316452869 151.28950524 148.746939844\n",
      "9 1 1 -0.0326 149.800682869 150.26532524 148.746939844\n",
      "10 1 1 0.0861 148.783312869 149.80678524 147.832809844\n",
      "11 1 1 0.0861 148.783312869 149.80678524 149.636109844\n",
      "12 1 1 -0.2792 148.783302869 147.44383524 147.832809844\n",
      "13 1 1 -0.0326 148.783302869 147.44383524 149.636109844\n",
      "14 1 1 0.0861 150.915422869 146.79425524 147.832809844\n",
      "15 1 1 0.0861 150.915422869 146.79425524 149.636109844\n",
      "16 1 1 -0.0326 153.278372869 146.79424524 147.832809844\n",
      "17 1 1 0.0861 153.278372869 146.79424524 149.636109844\n",
      "18 1 1 0.0861 153.973522869 148.29910524 148.734459844\n",
      "19 1 2 -0.2792 147.475562869 152.64382524 152.604899844\n",
      "20 1 2 -0.0326 149.420412869 151.30179524 152.604899844\n",
      "21 1 2 0.0861 149.420412869 151.30179524 151.097399844\n",
      "22 1 2 0.0861 149.420412869 151.30179524 148.734459844\n",
      "23 1 2 -0.0326 149.420412869 149.79429524 148.734459844\n",
      "24 1 2 0.0861 149.420412869 147.43135524 148.734459844\n",
      "25 1 2 0.0861 150.927912869 147.43135524 148.734459844\n",
      "26 1 2 -0.2792 153.290852869 147.43135524 148.734459844\n",
      "27 1 3 -0.1187 148.983062869 152.64382524 152.604899844\n",
      "28 1 3 0.0861 149.906682869 152.00648524 149.856629844\n",
      "29 1 3 0.0861 150.276592869 148.55352524 148.734459844\n",
      "30 1 3 0.0861 152.168682869 148.28753524 148.734459844\n",
      "\n",
      "Bonds \n",
      "\n",
      "1 2 30 1\n",
      "2 2 30 2\n",
      "3 2 30 3\n",
      "4 1 30 4\n",
      "5 1 4 5\n",
      "6 2 5 6\n",
      "7 2 5 7\n",
      "8 3 5 8\n",
      "9 2 8 9\n",
      "10 2 8 10\n",
      "11 1 8 11\n",
      "12 1 11 12\n",
      "13 2 12 13\n",
      "14 2 12 14\n",
      "15 3 12 15\n",
      "16 2 15 16\n",
      "17 2 15 17\n",
      "18 1 15 18\n",
      "19 1 18 19\n",
      "20 2 19 20\n",
      "21 2 19 21\n",
      "22 3 19 22\n",
      "23 2 22 23\n",
      "24 2 22 24\n",
      "25 1 22 25\n",
      "26 1 25 26\n",
      "27 2 26 27\n",
      "28 2 26 28\n",
      "29 2 26 29\n",
      "\n",
      "Angles \n",
      "\n",
      "1 2 1 30 2\n",
      "2 2 1 30 3\n",
      "3 3 1 30 4\n",
      "4 2 2 30 3\n",
      "5 3 2 30 4\n",
      "6 3 3 30 4\n",
      "7 5 30 4 5\n",
      "8 3 4 5 6\n",
      "9 3 4 5 7\n",
      "10 4 4 5 8\n",
      "11 2 6 5 7\n",
      "12 1 6 5 8\n",
      "13 1 7 5 8\n",
      "14 1 5 8 9\n",
      "15 1 5 8 10\n",
      "16 4 5 8 11\n",
      "17 2 9 8 10\n",
      "18 3 9 8 11\n",
      "19 3 10 8 11\n",
      "20 5 8 11 12\n",
      "21 3 11 12 13\n",
      "22 3 11 12 14\n",
      "23 4 11 12 15\n",
      "24 2 13 12 14\n",
      "25 1 13 12 15\n",
      "26 1 14 12 15\n",
      "27 1 12 15 16\n",
      "28 1 12 15 17\n",
      "29 4 12 15 18\n",
      "30 2 16 15 17\n",
      "31 3 16 15 18\n",
      "32 3 17 15 18\n",
      "33 5 15 18 19\n",
      "34 3 18 19 20\n",
      "35 3 18 19 21\n",
      "36 4 18 19 22\n",
      "37 2 20 19 21\n",
      "38 1 20 19 22\n",
      "39 1 21 19 22\n",
      "40 1 19 22 23\n",
      "41 1 19 22 24\n",
      "42 4 19 22 25\n",
      "43 2 23 22 24\n",
      "44 3 23 22 25\n",
      "45 3 24 22 25\n",
      "46 5 22 25 26\n",
      "47 3 25 26 27\n",
      "48 3 25 26 28\n",
      "49 3 25 26 29\n",
      "50 2 27 26 28\n",
      "51 2 27 26 29\n",
      "52 2 28 26 29\n",
      "\n",
      "Dihedrals \n",
      "\n",
      "1 1 1 30 4 5\n",
      "2 1 2 30 4 5\n",
      "3 1 3 30 4 5\n",
      "4 1 30 4 5 6\n",
      "5 1 30 4 5 7\n",
      "6 3 30 4 5 8\n",
      "7 2 4 5 8 9\n",
      "8 2 4 5 8 10\n",
      "9 5 4 5 8 11\n",
      "10 4 6 5 8 9\n",
      "11 4 6 5 8 10\n",
      "12 2 6 5 8 11\n",
      "13 4 7 5 8 9\n",
      "14 4 7 5 8 10\n",
      "15 2 7 5 8 11\n",
      "16 3 5 8 11 12\n",
      "17 1 9 8 11 12\n",
      "18 1 10 8 11 12\n",
      "19 1 8 11 12 13\n",
      "20 1 8 11 12 14\n",
      "21 3 8 11 12 15\n",
      "22 2 11 12 15 16\n",
      "23 2 11 12 15 17\n",
      "24 5 11 12 15 18\n",
      "25 4 13 12 15 16\n",
      "26 4 13 12 15 17\n",
      "27 2 13 12 15 18\n",
      "28 4 14 12 15 16\n",
      "29 4 14 12 15 17\n",
      "30 2 14 12 15 18\n",
      "31 3 12 15 18 19\n",
      "32 1 16 15 18 19\n",
      "33 1 17 15 18 19\n",
      "34 1 15 18 19 20\n",
      "35 1 15 18 19 21\n",
      "36 3 15 18 19 22\n",
      "37 2 18 19 22 23\n",
      "38 2 18 19 22 24\n",
      "39 5 18 19 22 25\n",
      "40 4 20 19 22 23\n",
      "41 4 20 19 22 24\n",
      "42 2 20 19 22 25\n",
      "43 4 21 19 22 23\n",
      "44 4 21 19 22 24\n",
      "45 2 21 19 22 25\n",
      "46 3 19 22 25 26\n",
      "47 1 23 22 25 26\n",
      "48 1 24 22 25 26\n",
      "49 1 22 25 26 27\n",
      "50 1 22 25 26 28\n",
      "51 1 22 25 26 29\n"
     ]
    }
   ],
   "source": [
    "print str(lammps_ff_data)\n",
    "\n",
    "#write the data file\n",
    "lammps_ff_data.write_data_file(\"lammps_data.dat\")"
   ]
  },
  {
   "cell_type": "markdown",
   "metadata": {
    "collapsed": true
   },
   "source": [
    "The first 4 bonds are screwed up other than that they are correct and really it is only the first atom-id that is wrong. It should be 0 instead of 30"
   ]
  }
 ],
 "metadata": {
  "kernelspec": {
   "display_name": "Python 2",
   "language": "python",
   "name": "python2"
  },
  "language_info": {
   "codemirror_mode": {
    "name": "ipython",
    "version": 2
   },
   "file_extension": ".py",
   "mimetype": "text/x-python",
   "name": "python",
   "nbconvert_exporter": "python",
   "pygments_lexer": "ipython2",
   "version": "2.7.10"
  }
 },
 "nbformat": 4,
 "nbformat_minor": 0
}
