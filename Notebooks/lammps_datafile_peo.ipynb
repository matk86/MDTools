{
 "cells": [
  {
   "cell_type": "markdown",
   "metadata": {},
   "source": [
    "This notebook does the following:\n",
    "\n",
    "    generate random walk polymer chain\n",
    "    local optimization using openbabel\n",
    "    packing of multiple polymer chains into the simulation box\n",
    "    Compute the system topology and read in the force field data\n",
    "    write the data file for lammps run\n",
    "\n",
    "Dependencies:\n",
    "\n",
    "    pymatgen(latest development version from github)\n",
    "    Polymers\n",
    "    packmol\n",
    "\n",
    "Required input files:\n",
    "\n",
    "    structures of start, bulk and terminal monomer molecules\n",
    "    appropriately formatted yaml forcefield data file"
   ]
  },
  {
   "cell_type": "code",
   "execution_count": 1,
   "metadata": {
    "collapsed": false
   },
   "outputs": [],
   "source": [
    "import numpy as np\n",
    "\n",
    "from pprint import pprint\n",
    "\n",
    "from pymatgen import Molecule\n",
    "from pymatgen.io.babel import BabelMolAdaptor\n",
    "\n",
    "from polymers.core import Polymer\n",
    "from polymers.packmol import PackmolRunner\n",
    "from polymers.utils import get_topology"
   ]
  },
  {
   "cell_type": "markdown",
   "metadata": {},
   "source": [
    "Set the start, bulk, and terminal molecules. Also set the forcefield species name mapping"
   ]
  },
  {
   "cell_type": "code",
   "execution_count": 2,
   "metadata": {
    "collapsed": false
   },
   "outputs": [],
   "source": [
    "# start molecule\n",
    "peo_start = Molecule.from_file(\"PEOmonomer_start.xyz\")\n",
    "s_charges = [-0.1187, 0.0861, 0.0861, 0.0861, -0.2792, -0.0326, 0.0861, 0.0861]\n",
    "peo_start.add_site_property(\"charge\", s_charges)\n",
    "s_head = 0\n",
    "s_tail = 5\n",
    "\n",
    "# chain molecule\n",
    "peo_bulk = Molecule.from_file(\"PEOmonomer_bulk.xyz\")\n",
    "b_charges = [-0.0326, 0.0861, 0.0861, -0.2792, -0.0326, 0.0861, 0.0861]\n",
    "peo_bulk.add_site_property(\"charge\", b_charges)\n",
    "head = 0\n",
    "tail = 4\n",
    "\n",
    "# terminal molecule\n",
    "peo_end = Molecule.from_file(\"PEOmonomer_end.xyz\")\n",
    "e_charges = [-0.0326, 0.0861, 0.0861, -0.2792, -0.1187, 0.0861, 0.0861, 0.0861]\n",
    "peo_end.add_site_property(\"charge\", e_charges)\n",
    "e_head = 0\n",
    "e_tail = 4"
   ]
  },
  {
   "cell_type": "markdown",
   "metadata": {},
   "source": [
    "# Create polymer via random walk"
   ]
  },
  {
   "cell_type": "code",
   "execution_count": 3,
   "metadata": {
    "collapsed": false
   },
   "outputs": [],
   "source": [
    "n_units = 25\n",
    "link_distance = 1.5075\n",
    "\n",
    "# create the polymer\n",
    "peo_polymer = Polymer(peo_start, s_head, s_tail, \n",
    "                      peo_bulk, head, tail, \n",
    "                      peo_end, e_head, e_tail, \n",
    "                      n_units, link_distance)\n",
    "\n",
    "# linear chain\n",
    "peo_polymer_linear = Polymer(peo_start, s_head, s_tail, \n",
    "                             peo_bulk, head, tail, \n",
    "                             peo_end, e_head, e_tail, \n",
    "                             n_units, link_distance, linear_chain=True)\n",
    "\n",
    "peo_polymer.molecule.to(filename=\"polymer.xyz\", fmt=\"xyz\")\n",
    "#peo_polymer_linear.molecule.to(filename=\"polymer_linear.xyz\", fmt=\"xyz\")"
   ]
  },
  {
   "cell_type": "markdown",
   "metadata": {},
   "source": [
    "set the topology of the polymer from the linear chain"
   ]
  },
  {
   "cell_type": "code",
   "execution_count": 4,
   "metadata": {
    "collapsed": false
   },
   "outputs": [
    {
     "name": "stdout",
     "output_type": "stream",
     "text": [
      "177 176 325 366\n",
      "[[0, 1, ('C', 'H')],\n",
      " [0, 2, ('C', 'H')],\n",
      " [0, 3, ('C', 'H')],\n",
      " [0, 4, ('C', 'O')],\n",
      " [4, 5, ('O', 'C')],\n",
      " [5, 6, ('C', 'H')],\n",
      " [5, 7, ('C', 'H')],\n",
      " [5, 8, ('C', 'C')],\n",
      " [8, 9, ('C', 'H')],\n",
      " [8, 10, ('C', 'H')],\n",
      " [8, 11, ('C', 'O')],\n",
      " [11, 12, ('O', 'C')],\n",
      " [12, 13, ('C', 'H')],\n",
      " [12, 14, ('C', 'H')],\n",
      " [12, 15, ('C', 'C')],\n",
      " [15, 16, ('C', 'H')],\n",
      " [15, 17, ('C', 'H')],\n",
      " [15, 18, ('C', 'O')],\n",
      " [18, 19, ('O', 'C')],\n",
      " [19, 20, ('C', 'H')],\n",
      " [19, 21, ('C', 'H')],\n",
      " [19, 22, ('C', 'C')],\n",
      " [22, 23, ('C', 'H')],\n",
      " [22, 24, ('C', 'H')],\n",
      " [22, 25, ('C', 'O')],\n",
      " [25, 26, ('O', 'C')],\n",
      " [26, 27, ('C', 'H')],\n",
      " [26, 28, ('C', 'H')],\n",
      " [26, 29, ('C', 'C')],\n",
      " [29, 30, ('C', 'H')],\n",
      " [29, 31, ('C', 'H')],\n",
      " [29, 32, ('C', 'O')],\n",
      " [32, 33, ('O', 'C')],\n",
      " [33, 34, ('C', 'H')],\n",
      " [33, 35, ('C', 'H')],\n",
      " [33, 36, ('C', 'C')],\n",
      " [36, 37, ('C', 'H')],\n",
      " [36, 38, ('C', 'H')],\n",
      " [36, 39, ('C', 'O')],\n",
      " [39, 40, ('O', 'C')],\n",
      " [40, 41, ('C', 'H')],\n",
      " [40, 42, ('C', 'H')],\n",
      " [40, 43, ('C', 'C')],\n",
      " [43, 44, ('C', 'H')],\n",
      " [43, 45, ('C', 'H')],\n",
      " [43, 46, ('C', 'O')],\n",
      " [46, 47, ('O', 'C')],\n",
      " [47, 48, ('C', 'H')],\n",
      " [47, 49, ('C', 'H')],\n",
      " [47, 50, ('C', 'C')],\n",
      " [50, 51, ('C', 'H')],\n",
      " [50, 52, ('C', 'H')],\n",
      " [50, 53, ('C', 'O')],\n",
      " [53, 54, ('O', 'C')],\n",
      " [54, 55, ('C', 'H')],\n",
      " [54, 56, ('C', 'H')],\n",
      " [54, 57, ('C', 'C')],\n",
      " [57, 58, ('C', 'H')],\n",
      " [57, 59, ('C', 'H')],\n",
      " [57, 60, ('C', 'O')],\n",
      " [60, 61, ('O', 'C')],\n",
      " [61, 62, ('C', 'H')],\n",
      " [61, 63, ('C', 'H')],\n",
      " [61, 64, ('C', 'C')],\n",
      " [64, 65, ('C', 'H')],\n",
      " [64, 66, ('C', 'H')],\n",
      " [64, 67, ('C', 'O')],\n",
      " [67, 68, ('O', 'C')],\n",
      " [68, 69, ('C', 'H')],\n",
      " [68, 70, ('C', 'H')],\n",
      " [68, 71, ('C', 'C')],\n",
      " [71, 72, ('C', 'H')],\n",
      " [71, 73, ('C', 'H')],\n",
      " [71, 74, ('C', 'O')],\n",
      " [74, 75, ('O', 'C')],\n",
      " [75, 76, ('C', 'H')],\n",
      " [75, 77, ('C', 'H')],\n",
      " [75, 78, ('C', 'C')],\n",
      " [78, 79, ('C', 'H')],\n",
      " [78, 80, ('C', 'H')],\n",
      " [78, 81, ('C', 'O')],\n",
      " [81, 82, ('O', 'C')],\n",
      " [82, 83, ('C', 'H')],\n",
      " [82, 84, ('C', 'H')],\n",
      " [82, 85, ('C', 'C')],\n",
      " [85, 86, ('C', 'H')],\n",
      " [85, 87, ('C', 'H')],\n",
      " [85, 88, ('C', 'O')],\n",
      " [88, 89, ('O', 'C')],\n",
      " [89, 90, ('C', 'H')],\n",
      " [89, 91, ('C', 'H')],\n",
      " [89, 92, ('C', 'C')],\n",
      " [92, 93, ('C', 'H')],\n",
      " [92, 94, ('C', 'H')],\n",
      " [92, 95, ('C', 'O')],\n",
      " [95, 96, ('O', 'C')],\n",
      " [96, 97, ('C', 'H')],\n",
      " [96, 98, ('C', 'H')],\n",
      " [96, 99, ('C', 'C')],\n",
      " [99, 100, ('C', 'H')],\n",
      " [99, 101, ('C', 'H')],\n",
      " [99, 102, ('C', 'O')],\n",
      " [102, 103, ('O', 'C')],\n",
      " [103, 104, ('C', 'H')],\n",
      " [103, 105, ('C', 'H')],\n",
      " [103, 106, ('C', 'C')],\n",
      " [106, 107, ('C', 'H')],\n",
      " [106, 108, ('C', 'H')],\n",
      " [106, 109, ('C', 'O')],\n",
      " [109, 110, ('O', 'C')],\n",
      " [110, 111, ('C', 'H')],\n",
      " [110, 112, ('C', 'H')],\n",
      " [110, 113, ('C', 'C')],\n",
      " [113, 114, ('C', 'H')],\n",
      " [113, 115, ('C', 'H')],\n",
      " [113, 116, ('C', 'O')],\n",
      " [116, 117, ('O', 'C')],\n",
      " [117, 118, ('C', 'H')],\n",
      " [117, 119, ('C', 'H')],\n",
      " [117, 120, ('C', 'C')],\n",
      " [120, 121, ('C', 'H')],\n",
      " [120, 122, ('C', 'H')],\n",
      " [120, 123, ('C', 'O')],\n",
      " [123, 124, ('O', 'C')],\n",
      " [124, 125, ('C', 'H')],\n",
      " [124, 126, ('C', 'H')],\n",
      " [124, 127, ('C', 'C')],\n",
      " [127, 128, ('C', 'H')],\n",
      " [127, 129, ('C', 'H')],\n",
      " [127, 130, ('C', 'O')],\n",
      " [130, 131, ('O', 'C')],\n",
      " [131, 132, ('C', 'H')],\n",
      " [131, 133, ('C', 'H')],\n",
      " [131, 134, ('C', 'C')],\n",
      " [134, 135, ('C', 'H')],\n",
      " [134, 136, ('C', 'H')],\n",
      " [134, 137, ('C', 'O')],\n",
      " [137, 138, ('O', 'C')],\n",
      " [138, 139, ('C', 'H')],\n",
      " [138, 140, ('C', 'H')],\n",
      " [138, 141, ('C', 'C')],\n",
      " [141, 142, ('C', 'H')],\n",
      " [141, 143, ('C', 'H')],\n",
      " [141, 144, ('C', 'O')],\n",
      " [144, 145, ('O', 'C')],\n",
      " [145, 146, ('C', 'H')],\n",
      " [145, 147, ('C', 'H')],\n",
      " [145, 148, ('C', 'C')],\n",
      " [148, 149, ('C', 'H')],\n",
      " [148, 150, ('C', 'H')],\n",
      " [148, 151, ('C', 'O')],\n",
      " [151, 152, ('O', 'C')],\n",
      " [152, 153, ('C', 'H')],\n",
      " [152, 154, ('C', 'H')],\n",
      " [152, 155, ('C', 'C')],\n",
      " [155, 156, ('C', 'H')],\n",
      " [155, 157, ('C', 'H')],\n",
      " [155, 158, ('C', 'O')],\n",
      " [158, 159, ('O', 'C')],\n",
      " [159, 160, ('C', 'H')],\n",
      " [159, 161, ('C', 'H')],\n",
      " [159, 162, ('C', 'C')],\n",
      " [162, 163, ('C', 'H')],\n",
      " [162, 164, ('C', 'H')],\n",
      " [162, 165, ('C', 'O')],\n",
      " [165, 166, ('O', 'C')],\n",
      " [166, 167, ('C', 'H')],\n",
      " [166, 168, ('C', 'H')],\n",
      " [166, 169, ('C', 'C')],\n",
      " [169, 170, ('C', 'H')],\n",
      " [169, 171, ('C', 'H')],\n",
      " [169, 172, ('C', 'O')],\n",
      " [172, 173, ('O', 'C')],\n",
      " [173, 174, ('C', 'H')],\n",
      " [173, 175, ('C', 'H')],\n",
      " [173, 176, ('C', 'H')]]\n"
     ]
    }
   ],
   "source": [
    "from pymatgen.io.lammps.topology import Topology\n",
    "\n",
    "topology = Topology.from_molecule(peo_polymer_linear.molecule)\n",
    "\n",
    "print len(topology.atoms), len(topology.bonds), len(topology.angles), len(topology.dihedrals)\n",
    "\n",
    "pprint(topology.bonds)"
   ]
  },
  {
   "cell_type": "markdown",
   "metadata": {},
   "source": [
    "# Generate polymer matrix"
   ]
  },
  {
   "cell_type": "code",
   "execution_count": 5,
   "metadata": {
    "collapsed": false
   },
   "outputs": [
    {
     "name": "stdout",
     "output_type": "stream",
     "text": [
      "[{'number': 1, 'inside box': [0, 0, 0, 150, 150, 150]}, {'number': 1, 'inside box': [0, 0, 0, 150, 150, 150]}, {'number': 1, 'inside box': [0, 0, 0, 150, 150, 150]}, {'number': 1, 'inside box': [0, 0, 0, 150, 150, 150]}]\n"
     ]
    },
    {
     "data": {
      "text/plain": [
       "4"
      ]
     },
     "execution_count": 5,
     "metadata": {},
     "output_type": "execute_result"
    }
   ],
   "source": [
    "#Polymer matrix settings\n",
    "\n",
    "# constituent molecules\n",
    "molecules = [peo_polymer.molecule]*4\n",
    "#radius = 100.0\n",
    "matrix_config = [{\"number\": 1, \"inside box\":[0,0,0,150,150,150]},\n",
    "                  {\"number\": 1, \"inside box\":[0,0,0,150,150,150]},\n",
    "                  {\"number\": 1, \"inside box\":[0,0,0,150,150,150]},\n",
    "                  {\"number\": 1, \"inside box\":[0,0,0,150,150,150]},]\n",
    "print matrix_config\n",
    "len(molecules)"
   ]
  },
  {
   "cell_type": "markdown",
   "metadata": {},
   "source": [
    "Use Packmol to pack the polymer chains into a box"
   ]
  },
  {
   "cell_type": "code",
   "execution_count": 6,
   "metadata": {
    "collapsed": false
   },
   "outputs": [
    {
     "name": "stdout",
     "output_type": "stream",
     "text": [
      "packed molecule written to poly_packed.xyz\n",
      "708\n",
      "177\n"
     ]
    }
   ],
   "source": [
    "pmr = PackmolRunner(molecules,\n",
    "                    matrix_config,\n",
    "                    tolerance=2.0,\n",
    "                    filetype=\"xyz\",\n",
    "                    control_params={\"nloop\": 1000},\n",
    "                    output_file=\"poly_packed.xyz\")\n",
    "packed_polymer = pmr.run()\n",
    "print len(packed_polymer)\n",
    "print len(peo_polymer.molecule)"
   ]
  },
  {
   "cell_type": "markdown",
   "metadata": {},
   "source": [
    "Read in the force field parameters"
   ]
  },
  {
   "cell_type": "code",
   "execution_count": 7,
   "metadata": {
    "collapsed": false
   },
   "outputs": [
    {
     "name": "stdout",
     "output_type": "stream",
     "text": [
      "{(u'C', u'C'): [1000, 1.5075],\n",
      " (u'C', u'H'): [1000, 1.1041],\n",
      " (u'C', u'O'): [1000, 1.4115]}\n"
     ]
    }
   ],
   "source": [
    "from pymatgen.io.lammps.force_field import ForceField\n",
    "\n",
    "forcefield = ForceField.from_file(\"ff_data.yaml\")\n",
    "pprint(forcefield.bonds)"
   ]
  },
  {
   "cell_type": "markdown",
   "metadata": {},
   "source": [
    "# Generate lammps data file from the topology and the forcefield"
   ]
  },
  {
   "cell_type": "code",
   "execution_count": 8,
   "metadata": {
    "collapsed": false
   },
   "outputs": [
    {
     "name": "stdout",
     "output_type": "stream",
     "text": [
      "[1, 1, 1, 1]\n"
     ]
    },
    {
     "ename": "KeyError",
     "evalue": "354",
     "output_type": "error",
     "traceback": [
      "\u001b[0;31m---------------------------------------------------------------------------\u001b[0m",
      "\u001b[0;31mKeyError\u001b[0m                                  Traceback (most recent call last)",
      "\u001b[0;32m<ipython-input-8-2a04c558bfec>\u001b[0m in \u001b[0;36m<module>\u001b[0;34m()\u001b[0m\n\u001b[1;32m     12\u001b[0m lammps_ff_data = LammpsForceFieldData.from_forcefield_and_topology(molecules, mols_number, \n\u001b[1;32m     13\u001b[0m                                                                    \u001b[0mbox_size\u001b[0m\u001b[0;34m,\u001b[0m \u001b[0mpacked_polymer\u001b[0m\u001b[0;34m,\u001b[0m\u001b[0;34m\u001b[0m\u001b[0m\n\u001b[0;32m---> 14\u001b[0;31m                                                                    forcefield, topologies)\n\u001b[0m",
      "\u001b[0;32m/Users/wood/Documents/Code/pymatgen/pymatgen/io/lammps/data.pyc\u001b[0m in \u001b[0;36mfrom_forcefield_and_topology\u001b[0;34m(mols, mols_number, box_size, molecule, forcefield, topologies)\u001b[0m\n\u001b[1;32m    549\u001b[0m             \u001b[0mLammpsData\u001b[0m\u001b[0;34m.\u001b[0m\u001b[0mget_basic_system_info\u001b[0m\u001b[0;34m(\u001b[0m\u001b[0mmolecule\u001b[0m\u001b[0;34m.\u001b[0m\u001b[0mcopy\u001b[0m\u001b[0;34m(\u001b[0m\u001b[0;34m)\u001b[0m\u001b[0;34m)\u001b[0m\u001b[0;34m\u001b[0m\u001b[0m\n\u001b[1;32m    550\u001b[0m         atoms_data, molid_to_atomid = LammpsForceFieldData.get_atoms_data(\n\u001b[0;32m--> 551\u001b[0;31m             mols, mols_number, molecule, atomic_masses_dict, topologies)\n\u001b[0m\u001b[1;32m    552\u001b[0m         \u001b[0;31m# set the other data from the molecular topologies\u001b[0m\u001b[0;34m\u001b[0m\u001b[0;34m\u001b[0m\u001b[0m\n\u001b[1;32m    553\u001b[0m         bonds_data = LammpsForceFieldData.get_param_data(\n",
      "\u001b[0;32m/Users/wood/Documents/Code/pymatgen/pymatgen/io/lammps/data.pyc\u001b[0m in \u001b[0;36mget_atoms_data\u001b[0;34m(mols, mols_number, molecule, atomic_masses_dict, topologies)\u001b[0m\n\u001b[1;32m    428\u001b[0m             \u001b[0;31m# atom_type = molecule.symbol_set.index(site.species_string) + 1\u001b[0m\u001b[0;34m\u001b[0m\u001b[0;34m\u001b[0m\u001b[0m\n\u001b[1;32m    429\u001b[0m             \u001b[0matom_id\u001b[0m \u001b[0;34m=\u001b[0m \u001b[0mi\u001b[0m \u001b[0;34m+\u001b[0m \u001b[0;36m1\u001b[0m\u001b[0;34m\u001b[0m\u001b[0m\n\u001b[0;32m--> 430\u001b[0;31m             \u001b[0mmol_type\u001b[0m \u001b[0;34m=\u001b[0m \u001b[0matom_to_mol\u001b[0m\u001b[0;34m[\u001b[0m\u001b[0mi\u001b[0m\u001b[0;34m]\u001b[0m\u001b[0;34m[\u001b[0m\u001b[0;36m0\u001b[0m\u001b[0;34m]\u001b[0m \u001b[0;34m+\u001b[0m \u001b[0;36m1\u001b[0m\u001b[0;34m\u001b[0m\u001b[0m\n\u001b[0m\u001b[1;32m    431\u001b[0m             \u001b[0mmol_atom_id\u001b[0m \u001b[0;34m=\u001b[0m \u001b[0matom_to_mol\u001b[0m\u001b[0;34m[\u001b[0m\u001b[0mi\u001b[0m\u001b[0;34m]\u001b[0m\u001b[0;34m[\u001b[0m\u001b[0;36m1\u001b[0m\u001b[0;34m]\u001b[0m \u001b[0;34m+\u001b[0m \u001b[0;36m1\u001b[0m\u001b[0;34m\u001b[0m\u001b[0m\n\u001b[1;32m    432\u001b[0m             \u001b[0mcharge\u001b[0m \u001b[0;34m=\u001b[0m \u001b[0;36m0.0\u001b[0m\u001b[0;34m\u001b[0m\u001b[0m\n",
      "\u001b[0;31mKeyError\u001b[0m: 354"
     ]
    }
   ],
   "source": [
    "from pymatgen.io.lammps.data import LammpsForceFieldData\n",
    "\n",
    "mols_number = [mol_config[\"number\"] for mol_config in matrix_config]\n",
    "print mols_number\n",
    "#length = radius*1.1\n",
    "box_size = [[0.0, 150], \n",
    "            [0.0, 150], \n",
    "            [0.0, 150]]\n",
    "# list of molecular topologies for each constituent molecules\n",
    "topologies = [topology]*len(molecules)\n",
    "\n",
    "lammps_ff_data = LammpsForceFieldData.from_forcefield_and_topology(molecules, mols_number, \n",
    "                                                                   box_size, packed_polymer, \n",
    "                                                                   forcefield, topologies)\n"
   ]
  },
  {
   "cell_type": "markdown",
   "metadata": {},
   "source": [
    "Write the data file(uncomment the write line)"
   ]
  },
  {
   "cell_type": "code",
   "execution_count": null,
   "metadata": {
    "collapsed": false
   },
   "outputs": [],
   "source": [
    "print str(lammps_ff_data)\n",
    "\n",
    "#write the data file\n",
    "lammps_ff_data.write_data_file(\"lammps_data.dat\")"
   ]
  }
 ],
 "metadata": {
  "kernelspec": {
   "display_name": "Python 2",
   "language": "python",
   "name": "python2"
  },
  "language_info": {
   "codemirror_mode": {
    "name": "ipython",
    "version": 2
   },
   "file_extension": ".py",
   "mimetype": "text/x-python",
   "name": "python",
   "nbconvert_exporter": "python",
   "pygments_lexer": "ipython2",
   "version": "2.7.10"
  }
 },
 "nbformat": 4,
 "nbformat_minor": 0
}
