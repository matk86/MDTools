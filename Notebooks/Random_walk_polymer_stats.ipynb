{
 "cells": [
  {
   "cell_type": "markdown",
   "metadata": {},
   "source": [
    "This notebook does the following:\n",
    "\n",
    "    generates n_loop random walk polymer chains\n",
    "    calculates the end-to-end distance\n",
    "    plots the distances in a historgram\n",
    "\n",
    "Dependencies:\n",
    "\n",
    "    pymatgen(latest development version from github)\n",
    "    Polymers\n",
    "\n",
    "Required input files:\n",
    "\n",
    "    structures of start, bulk and terminal monomer molecules\n",
    "    appropriately formatted yaml forcefield data file"
   ]
  },
  {
   "cell_type": "code",
   "execution_count": 1,
   "metadata": {
    "collapsed": false
   },
   "outputs": [],
   "source": [
    "import numpy as np\n",
    "\n",
    "from pymatgen import Molecule\n",
    "from pymatgen.io.babel import BabelMolAdaptor \n",
    "\n",
    "from polymers.core import Polymer\n",
    "\n",
    "import matplotlib.pyplot as plt\n",
    "\n",
    "%matplotlib inline"
   ]
  },
  {
   "cell_type": "code",
   "execution_count": null,
   "metadata": {
    "collapsed": true
   },
   "outputs": [],
   "source": []
  },
  {
   "cell_type": "markdown",
   "metadata": {},
   "source": [
    "Set the start, bulk, and terminal molecules. Also set the forcefield species name mapping"
   ]
  },
  {
   "cell_type": "code",
   "execution_count": 2,
   "metadata": {
    "collapsed": false
   },
   "outputs": [],
   "source": [
    "# start molecule\n",
    "peo_start = Molecule.from_file(\"PEOmonomer_start.xyz\")\n",
    "s_head = 0\n",
    "s_tail = 5\n",
    "\n",
    "# chain molecule\n",
    "peo_bulk = Molecule.from_file(\"PEOmonomer_bulk.xyz\")\n",
    "head = 0\n",
    "tail = 4\n",
    "\n",
    "# terminal molecule\n",
    "peo_end = Molecule.from_file(\"PEOmonomer_end.xyz\")\n",
    "e_head = 0\n",
    "e_tail = 4\n",
    "\n",
    "#len(peo_start.sites)"
   ]
  },
  {
   "cell_type": "markdown",
   "metadata": {},
   "source": [
    "Create polymer via random walk"
   ]
  },
  {
   "cell_type": "code",
   "execution_count": 3,
   "metadata": {
    "collapsed": false
   },
   "outputs": [],
   "source": [
    "n_units = 50\n",
    "link_distance = 1.5075\n",
    "n_loop = 50\n",
    "# number of sites from the end to e_tail\n",
    "# index from the end of the monomer instead of the start\n",
    "tail_e = 3\n",
    "# list of end-to-end distances\n",
    "end_to_end_list = []\n",
    "\n",
    "\n",
    "# create the polymer, calc end-to-end distance, append value to list\n",
    "for i in range(n_loop):\n",
    "    peo_polymer = Polymer(peo_start, s_head, s_tail, \n",
    "                          peo_bulk, head, tail, \n",
    "                          peo_end, e_head, e_tail, \n",
    "                          n_units, link_distance)\n",
    "    start_atom_i = s_head\n",
    "    end_atom_i = (len(peo_polymer.molecule.sites)- tail_e)\n",
    "    end_to_end = peo_polymer.molecule.get_distance(start_atom_i,end_atom_i)\n",
    "    end_to_end_list.append(end_to_end)\n",
    "\n",
    "#print len(end_to_end_list)\n",
    "\n",
    "avg_ete = np.average(end_to_end_list)\n",
    "stdev_ete = np.std(end_to_end_list)"
   ]
  },
  {
   "cell_type": "markdown",
   "metadata": {},
   "source": [
    "Gaussian distribution\n",
    "mu = mean\n",
    "sigma = stdev"
   ]
  },
  {
   "cell_type": "code",
   "execution_count": 4,
   "metadata": {
    "collapsed": true
   },
   "outputs": [],
   "source": [
    "def gauss(x, mu, sigma):\n",
    "    return (1/(np.sqrt(2*np.pi)*sigma)) * np.exp(-np.square(x-mu)/(2*np.square(sigma)))"
   ]
  },
  {
   "cell_type": "code",
   "execution_count": 5,
   "metadata": {
    "collapsed": false
   },
   "outputs": [
    {
     "data": {
      "image/png": "[encoded data removed]",
      "text/plain": [
       "<matplotlib.figure.Figure at 0x115978510>"
      ]
     },
     "metadata": {},
     "output_type": "display_data"
    }
   ],
   "source": [
    "plt.figure()\n",
    "plt.ylabel('$P(R)$')\n",
    "plt.xlabel('$end-to-end$ $distance$ $R$$(\\AA)$')\n",
    "weights = np.ones_like(end_to_end_list) / float(len(end_to_end_list))\n",
    "n,bins,weights = plt.hist(end_to_end_list, 30, weights=weights)\n",
    "gauss_dist = [gauss(x, avg_ete, stdev_ete) for x in bins]\n",
    "plt.plot(bins, gauss_dist, 'r--', lw=2)\n",
    "plt.legend(['$Gaussian$ $Distribution$'], loc='best')\n",
    "plt.show()"
   ]
  },
  {
   "cell_type": "code",
   "execution_count": null,
   "metadata": {
    "collapsed": true
   },
   "outputs": [],
   "source": []
  }
 ],
 "metadata": {
  "kernelspec": {
   "display_name": "Python 2",
   "language": "python",
   "name": "python2"
  },
  "language_info": {
   "codemirror_mode": {
    "name": "ipython",
    "version": 2
   },
   "file_extension": ".py",
   "mimetype": "text/x-python",
   "name": "python",
   "nbconvert_exporter": "python",
   "pygments_lexer": "ipython2",
   "version": "2.7.10"
  }
 },
 "nbformat": 4,
 "nbformat_minor": 0
}
