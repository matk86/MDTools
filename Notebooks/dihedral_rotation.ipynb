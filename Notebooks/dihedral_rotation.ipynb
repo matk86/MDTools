{
 "cells": [
  {
   "cell_type": "markdown",
   "metadata": {},
   "source": [
    "# Define Molecule in Pymatgen"
   ]
  },
  {
   "cell_type": "code",
   "execution_count": 1,
   "metadata": {
    "collapsed": true
   },
   "outputs": [],
   "source": [
    "import numpy as np\n",
    "from pymatgen import Molecule"
   ]
  },
  {
   "cell_type": "code",
   "execution_count": 4,
   "metadata": {
    "collapsed": true
   },
   "outputs": [],
   "source": [
    "pt = Molecule.from_file(\"pt_n2.xyz\")"
   ]
  },
  {
   "cell_type": "code",
   "execution_count": 5,
   "metadata": {
    "collapsed": false
   },
   "outputs": [
    {
     "data": {
      "text/plain": [
       "Molecule Summary\n",
       "Site: S (1.1491, 0.8962, -0.5190)\n",
       "Site: C (1.0287, -0.7412, -0.2836)\n",
       "Site: C (-0.3287, -1.0213, -0.0966)\n",
       "Site: C (-1.1626, 0.1296, -0.1612)\n",
       "Site: C (-0.4526, 1.3102, -0.3994)\n",
       "Site: H (-2.2367, 0.0889, -0.0378)\n",
       "Site: C (-1.0132, 2.6631, -0.5214)\n",
       "Site: S (-2.6149, 3.0770, -0.4018)\n",
       "Site: C (-0.3034, 3.8438, -0.7596)\n",
       "Site: C (-2.4946, 4.7144, -0.6372)\n",
       "Site: C (-1.1373, 4.9947, -0.8242)\n",
       "Site: H (-0.7576, 5.9920, -1.0013)\n",
       "Site: H (1.8395, -1.4567, -0.2755)\n",
       "Site: H (-0.7085, -2.0186, 0.0805)\n",
       "Site: H (-3.3056, 5.4299, -0.6453)\n",
       "Site: H (0.7708, 3.8846, -0.8831)"
      ]
     },
     "execution_count": 5,
     "metadata": {},
     "output_type": "execute_result"
    }
   ],
   "source": [
    "pt"
   ]
  },
  {
   "cell_type": "markdown",
   "metadata": {},
   "source": [
    "# Define Molecule in Openbabel"
   ]
  },
  {
   "cell_type": "code",
   "execution_count": 6,
   "metadata": {
    "collapsed": true
   },
   "outputs": [],
   "source": [
    "from pymatgen.io.babel import BabelMolAdaptor\n",
    "import pybel as pb"
   ]
  },
  {
   "cell_type": "code",
   "execution_count": 7,
   "metadata": {
    "collapsed": true
   },
   "outputs": [],
   "source": [
    "pt_mol = pb.Molecule(BabelMolAdaptor(pt).openbabel_mol)"
   ]
  },
  {
   "cell_type": "code",
   "execution_count": 11,
   "metadata": {
    "collapsed": false
   },
   "outputs": [
    {
     "data": {
      "image/svg+xml": [
       "<svg xmlns=\"http://www.w3.org/2000/svg\" font-family=\"sans-serif\" height=\"100\" stroke=\"rgb(0,0,0)\" stroke-linecap=\"round\" stroke-width=\"2\" viewBox=\"0 0 320.943 212.489\" width=\"100\" x=\"0\" y=\"0\">\n",
       "<line stroke=\"rgb(0,0,0)\" stroke-width=\"2.0\" x1=\"269.1\" x2=\"244.4\" y1=\"92.7\" y2=\"103.6\" />\n",
       "<line stroke=\"rgb(0,0,0)\" stroke-width=\"2.0\" x1=\"206.9\" x2=\"209.8\" y1=\"56.8\" y2=\"83.6\" />\n",
       "<line stroke=\"rgb(0,0,0)\" stroke-width=\"2.0\" x1=\"254.2\" x2=\"236.1\" y1=\"162.8\" y2=\"142.8\" />\n",
       "<line stroke=\"rgb(0,0,0)\" stroke-width=\"2.0\" x1=\"180.0\" x2=\"140.9\" y1=\"110.4\" y2=\"102.1\" />\n",
       "<line stroke=\"rgb(0,0,0)\" stroke-width=\"2.0\" x1=\"84.9\" x2=\"66.8\" y1=\"69.7\" y2=\"49.7\" />\n",
       "<line stroke=\"rgb(0,0,0)\" stroke-width=\"2.0\" x1=\"111.2\" x2=\"114.0\" y1=\"128.9\" y2=\"155.7\" />\n",
       "<line stroke=\"rgb(0,0,0)\" stroke-width=\"2.0\" x1=\"76.5\" x2=\"51.9\" y1=\"108.9\" y2=\"119.8\" />\n",
       "<line stroke=\"rgb(0,0,0)\" stroke-width=\"2.0\" x1=\"209.8\" x2=\"180.0\" y1=\"83.6\" y2=\"110.4\" />\n",
       "<line stroke=\"rgb(0,0,0)\" stroke-width=\"2.0\" x1=\"210.1\" x2=\"189.3\" y1=\"93.0\" y2=\"111.7\" />\n",
       "<line stroke=\"rgb(0,0,0)\" stroke-width=\"2.0\" x1=\"180.0\" x2=\"191.0\" y1=\"110.4\" y2=\"135.1\" />\n",
       "<line stroke=\"rgb(0,0,0)\" stroke-width=\"2.0\" x1=\"209.2\" x2=\"236.1\" y1=\"145.6\" y2=\"142.8\" />\n",
       "<line stroke=\"rgb(0,0,0)\" stroke-width=\"2.0\" x1=\"236.1\" x2=\"244.4\" y1=\"142.8\" y2=\"103.6\" />\n",
       "<line stroke=\"rgb(0,0,0)\" stroke-width=\"2.0\" x1=\"230.3\" x2=\"236.1\" y1=\"135.4\" y2=\"108.0\" />\n",
       "<line stroke=\"rgb(0,0,0)\" stroke-width=\"2.0\" x1=\"244.4\" x2=\"209.8\" y1=\"103.6\" y2=\"83.6\" />\n",
       "<line stroke=\"rgb(0,0,0)\" stroke-width=\"2.0\" x1=\"76.5\" x2=\"111.2\" y1=\"108.9\" y2=\"128.9\" />\n",
       "<line stroke=\"rgb(0,0,0)\" stroke-width=\"2.0\" x1=\"111.2\" x2=\"140.9\" y1=\"128.9\" y2=\"102.1\" />\n",
       "<line stroke=\"rgb(0,0,0)\" stroke-width=\"2.0\" x1=\"110.8\" x2=\"131.6\" y1=\"119.5\" y2=\"100.8\" />\n",
       "<line stroke=\"rgb(0,0,0)\" stroke-width=\"2.0\" x1=\"140.9\" x2=\"129.9\" y1=\"102.1\" y2=\"77.4\" />\n",
       "<line stroke=\"rgb(0,0,0)\" stroke-width=\"2.0\" x1=\"111.7\" x2=\"84.9\" y1=\"66.9\" y2=\"69.7\" />\n",
       "<line stroke=\"rgb(0,0,0)\" stroke-width=\"2.0\" x1=\"84.9\" x2=\"76.5\" y1=\"69.7\" y2=\"108.9\" />\n",
       "<line stroke=\"rgb(0,0,0)\" stroke-width=\"2.0\" x1=\"90.7\" x2=\"84.8\" y1=\"77.1\" y2=\"104.5\" />\n",
       "<text fill=\"rgb(178,178,0)\" font-size=\"16\" stroke=\"rgb(178,178,0)\" stroke-width=\"1\" x=\"118.639162\" y=\"73.544654\">S</text>\n",
       "<text fill=\"rgb(191,191,191)\" font-size=\"16\" stroke=\"rgb(191,191,191)\" stroke-width=\"1\" x=\"109.363973\" y=\"176.632573\">H</text>\n",
       "<text fill=\"rgb(178,178,0)\" font-size=\"16\" stroke=\"rgb(178,178,0)\" stroke-width=\"1\" x=\"190.303997\" y=\"154.944759\">S</text>\n",
       "<text fill=\"rgb(191,191,191)\" font-size=\"16\" stroke=\"rgb(191,191,191)\" stroke-width=\"1\" x=\"274.943159\" y=\"95.368250\">H</text>\n",
       "<text fill=\"rgb(191,191,191)\" font-size=\"16\" stroke=\"rgb(191,191,191)\" stroke-width=\"1\" x=\"52.093062\" y=\"48.000000\">H</text>\n",
       "<text fill=\"rgb(191,191,191)\" font-size=\"16\" stroke=\"rgb(191,191,191)\" stroke-width=\"1\" x=\"34.000000\" y=\"133.121163\">H</text>\n",
       "<text fill=\"rgb(191,191,191)\" font-size=\"16\" stroke=\"rgb(191,191,191)\" stroke-width=\"1\" x=\"256.850097\" y=\"180.489413\">H</text>\n",
       "<text fill=\"rgb(191,191,191)\" font-size=\"16\" stroke=\"rgb(191,191,191)\" stroke-width=\"1\" x=\"199.579186\" y=\"51.856840\">H</text>\n",
       "</svg>\n"
      ],
      "text/plain": [
       "<pybel.Molecule at 0x10789b890>"
      ]
     },
     "execution_count": 11,
     "metadata": {},
     "output_type": "execute_result"
    }
   ],
   "source": [
    "pt_mol"
   ]
  },
  {
   "cell_type": "markdown",
   "metadata": {},
   "source": [
    "# Get and set dihedral angle"
   ]
  },
  {
   "cell_type": "code",
   "execution_count": 8,
   "metadata": {
    "collapsed": false
   },
   "outputs": [
    {
     "data": {
      "text/plain": [
       "-179.9995063442511"
      ]
     },
     "execution_count": 8,
     "metadata": {},
     "output_type": "execute_result"
    }
   ],
   "source": [
    "pt_mol.OBMol.GetTorsion(4,5,7,9) "
   ]
  },
  {
   "cell_type": "code",
   "execution_count": 9,
   "metadata": {
    "collapsed": true
   },
   "outputs": [],
   "source": [
    "import math\n",
    "pt_mol.OBMol.SetTorsion(4,5,7,9, 90.*math.pi/180.) "
   ]
  },
  {
   "cell_type": "code",
   "execution_count": 10,
   "metadata": {
    "collapsed": false
   },
   "outputs": [
    {
     "data": {
      "text/plain": [
       "90.0"
      ]
     },
     "execution_count": 10,
     "metadata": {},
     "output_type": "execute_result"
    }
   ],
   "source": [
    "pt_mol.OBMol.GetTorsion(4,5,7,9) "
   ]
  },
  {
   "cell_type": "code",
   "execution_count": 12,
   "metadata": {
    "collapsed": true
   },
   "outputs": [],
   "source": [
    "pt_mol.write(\"xyz\", filename=\"pt_rotated.xyz\", overwrite=True)"
   ]
  },
  {
   "cell_type": "markdown",
   "metadata": {},
   "source": [
    "# Convert back to pymatgen molecule for workflow"
   ]
  },
  {
   "cell_type": "code",
   "execution_count": 16,
   "metadata": {
    "collapsed": false
   },
   "outputs": [],
   "source": [
    "pt_rotated = BabelMolAdaptor(pt_mol.OBMol).pymatgen_mol"
   ]
  },
  {
   "cell_type": "code",
   "execution_count": 17,
   "metadata": {
    "collapsed": false
   },
   "outputs": [
    {
     "data": {
      "text/plain": [
       "Molecule Summary\n",
       "Site: S (1.1491, 0.8962, -0.5190)\n",
       "Site: C (1.0287, -0.7412, -0.2836)\n",
       "Site: C (-0.3287, -1.0213, -0.0966)\n",
       "Site: C (-1.1626, 0.1296, -0.1612)\n",
       "Site: C (-0.4526, 1.3102, -0.3994)\n",
       "Site: H (-2.2367, 0.0889, -0.0378)\n",
       "Site: C (-1.0132, 2.6631, -0.5214)\n",
       "Site: S (-1.5325, 3.3886, -1.9197)\n",
       "Site: C (-1.2109, 3.5825, 0.5131)\n",
       "Site: C (-2.0168, 4.8520, -1.3073)\n",
       "Site: C (-1.7747, 4.8112, 0.0695)\n",
       "Site: H (-1.9952, 5.6358, 0.7341)\n",
       "Site: H (1.8395, -1.4567, -0.2755)\n",
       "Site: H (-0.7085, -2.0186, 0.0805)\n",
       "Site: H (-2.4383, 5.6796, -1.8614)\n",
       "Site: H (-0.9626, 3.3856, 1.5476)"
      ]
     },
     "execution_count": 17,
     "metadata": {},
     "output_type": "execute_result"
    }
   ],
   "source": [
    "pt_rotated"
   ]
  },
  {
   "cell_type": "markdown",
   "metadata": {},
   "source": []
  }
 ],
 "metadata": {
  "kernelspec": {
   "display_name": "Python 2",
   "language": "python",
   "name": "python2"
  },
  "language_info": {
   "codemirror_mode": {
    "name": "ipython",
    "version": 2
   },
   "file_extension": ".py",
   "mimetype": "text/x-python",
   "name": "python",
   "nbconvert_exporter": "python",
   "pygments_lexer": "ipython2",
   "version": "2.7.10"
  }
 },
 "nbformat": 4,
 "nbformat_minor": 0
}
