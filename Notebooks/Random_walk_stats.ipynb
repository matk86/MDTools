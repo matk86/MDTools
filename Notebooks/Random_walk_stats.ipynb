{
 "cells": [
  {
   "cell_type": "code",
   "execution_count": 1,
   "metadata": {
    "collapsed": true
   },
   "outputs": [],
   "source": [
    "import numpy as np\n",
    "\n",
    "import matplotlib.pyplot as plt\n",
    "\n",
    "%matplotlib inline"
   ]
  },
  {
   "cell_type": "code",
   "execution_count": 2,
   "metadata": {
    "collapsed": true
   },
   "outputs": [],
   "source": [
    "moves = {1: [1, 0, 0], \n",
    "         2: [0, 1, 0], \n",
    "         3: [0, 0, 1], \n",
    "         4: [-1, 0, 0], \n",
    "         5: [0, -1, 0], \n",
    "         6: [0, 0, -1]}\n",
    "\n",
    "#dont need this\n",
    "def get_move(prev_move):\n",
    "    move = np.random.randint(1, 7)\n",
    "    while prev_move == (move + 3) % 6:\n",
    "        move = np.random.randint(1, 7)\n",
    "    return move\n",
    "\n",
    "def sampler(nmoves):\n",
    "    prev_move = 1\n",
    "    total_move = np.array(moves[prev_move])\n",
    "    for i in range(nmoves):\n",
    "        #prev_move = get_move(prev_move)\n",
    "        prev_move = np.random.randint(1, 7)\n",
    "        total_move += np.array(moves[prev_move])\n",
    "    return np.linalg.norm(total_move)\n",
    "\n",
    "def normal_distribution(x, mu, sigma):\n",
    "    return np.exp(-(x-mu)**2/(2*sigma**2)) / np.sqrt(2*np.pi) / sigma"
   ]
  },
  {
   "cell_type": "code",
   "execution_count": 3,
   "metadata": {
    "collapsed": false
   },
   "outputs": [
    {
     "name": "stdout",
     "output_type": "stream",
     "text": [
      "9.35280949582 3.908165111\n"
     ]
    }
   ],
   "source": [
    "nsamples = 10000\n",
    "nmoves = 100\n",
    "\n",
    "samples = [sampler(nmoves) for i in range(nsamples)]\n",
    "\n",
    "avg = np.average(samples)\n",
    "std = np.std(samples)\n",
    "print avg, std"
   ]
  },
  {
   "cell_type": "code",
   "execution_count": 4,
   "metadata": {
    "collapsed": false
   },
   "outputs": [
    {
     "data": {
      "image/png": "[encoded data removed]",
      "text/plain": [
       "<matplotlib.figure.Figure at 0x7f1dd308ec50>"
      ]
     },
     "metadata": {},
     "output_type": "display_data"
    }
   ],
   "source": [
    "n, bins, _ = plt.hist(np.array(samples), 50)\n",
    "normal = [normal_distribution(x, avg, std) for x in bins]\n",
    "plt.plot(bins, np.array(normal)*max(n)*10, 'r')\n",
    "plt.show()"
   ]
  },
  {
   "cell_type": "code",
   "execution_count": null,
   "metadata": {
    "collapsed": true
   },
   "outputs": [],
   "source": []
  }
 ],
 "metadata": {
  "kernelspec": {
   "display_name": "Python 2",
   "language": "python",
   "name": "python2"
  },
  "language_info": {
   "codemirror_mode": {
    "name": "ipython",
    "version": 2
   },
   "file_extension": ".py",
   "mimetype": "text/x-python",
   "name": "python",
   "nbconvert_exporter": "python",
   "pygments_lexer": "ipython2",
   "version": "2.7.6"
  }
 },
 "nbformat": 4,
 "nbformat_minor": 0
}
