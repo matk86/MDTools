{
 "cells": [
  {
   "cell_type": "markdown",
   "metadata": {},
   "source": [
    "This notebook does the following:\n",
    "\n",
    "    Generate random walk polymer chain\n",
    "    Generate polymer matrix using packmol\n",
    "    Generate LAMMPS input files\n",
    "    Run LAMMPS\n",
    "    Post-process: compute diffusivity and rdf\n",
    "\n",
    "Dependencies:\n",
    "\n",
    "    pymatgen(latest development version from github or atleast v3.7.1)\n",
    "    pymatgen-diffusion(https://github.com/materialsvirtuallab/pymatgen-diffusion): to compute RDF\n",
    "    packmol(https://github.com/leandromartinez98/packmol)\n",
    "    LAMMPS(http://lammps.sandia.gov)\n",
    "\n",
    "Required input files:\n",
    "\n",
    "    Input structures: start, bulk and terminal molecules\n",
    "    Forcefield data: yaml file\n",
    "    Input file template: json file"
   ]
  },
  {
   "cell_type": "code",
   "execution_count": 1,
   "metadata": {
    "collapsed": false
   },
   "outputs": [],
   "source": [
    "import numpy as np\n",
    "\n",
    "from pprint import pprint\n",
    "\n",
    "from pymatgen import Molecule\n",
    "from pymatgen.io.babel import BabelMolAdaptor\n",
    "from pymatgen.io.lammps.utils import Polymer, PackmolRunner, LammpsRunner"
   ]
  },
  {
   "cell_type": "markdown",
   "metadata": {},
   "source": [
    "# Set the start, bulk, and terminal molecules. \n",
    "\n",
    "Set charges and optionally the forcefield species name mapping "
   ]
  },
  {
   "cell_type": "code",
   "execution_count": 2,
   "metadata": {
    "collapsed": false
   },
   "outputs": [],
   "source": [
    "# start molecule\n",
    "peo_start = Molecule.from_file(\"test_files/peo_start.xyz\")\n",
    "s_charges = [-0.1187, 0.0861, 0.0861, 0.0861, -0.2792, -0.0326, 0.0861, 0.0861]\n",
    "peo_start.add_site_property(\"charge\", s_charges)\n",
    "s_head = 0\n",
    "s_tail = 5\n",
    "\n",
    "# chain molecule\n",
    "peo_bulk = Molecule.from_file(\"test_files/peo_bulk.xyz\")\n",
    "b_charges = [-0.0326, 0.0861, 0.0861, -0.2792, -0.0326, 0.0861, 0.0861]\n",
    "peo_bulk.add_site_property(\"charge\", b_charges)\n",
    "head = 0\n",
    "tail = 4\n",
    "\n",
    "# terminal molecule\n",
    "peo_end = Molecule.from_file(\"test_files/peo_end.xyz\")\n",
    "e_charges = [-0.0326, 0.0861, 0.0861, -0.2792, -0.1187, 0.0861, 0.0861, 0.0861]\n",
    "peo_end.add_site_property(\"charge\", e_charges)\n",
    "e_head = 0\n",
    "e_tail = 4"
   ]
  },
  {
   "cell_type": "markdown",
   "metadata": {},
   "source": [
    "# Create polymer via random walk"
   ]
  },
  {
   "cell_type": "code",
   "execution_count": 3,
   "metadata": {
    "collapsed": false
   },
   "outputs": [],
   "source": [
    "n_units = 58\n",
    "link_distance = 1.5075\n",
    "\n",
    "# create the polymer\n",
    "peo_polymer = Polymer(peo_start, s_head, s_tail, \n",
    "                      peo_bulk, head, tail, \n",
    "                      peo_end, e_head, e_tail, \n",
    "                      n_units, link_distance)\n",
    "\n",
    "# linear chain\n",
    "peo_polymer_linear = Polymer(peo_start, s_head, s_tail, \n",
    "                             peo_bulk, head, tail, \n",
    "                             peo_end, e_head, e_tail, \n",
    "                             n_units, link_distance, linear_chain=True)"
   ]
  },
  {
   "cell_type": "markdown",
   "metadata": {},
   "source": [
    "# Set the topology of the polymer from the linear chain"
   ]
  },
  {
   "cell_type": "code",
   "execution_count": 4,
   "metadata": {
    "collapsed": false
   },
   "outputs": [
    {
     "name": "stdout",
     "output_type": "stream",
     "text": [
      "(408, 407, 754, 861)\n"
     ]
    }
   ],
   "source": [
    "from pymatgen.io.lammps.topology import Topology\n",
    "\n",
    "topology = Topology.from_molecule(peo_polymer_linear.molecule)\n",
    "\n",
    "natoms, nbonds, nangles, ndih =  len(topology.atoms), len(topology.bonds), len(topology.angles), len(topology.dihedrals)\n",
    "\n",
    "print(natoms, nbonds, nangles, ndih)"
   ]
  },
  {
   "cell_type": "markdown",
   "metadata": {},
   "source": [
    "# Generate polymer matrix"
   ]
  },
  {
   "cell_type": "code",
   "execution_count": 5,
   "metadata": {
    "collapsed": false
   },
   "outputs": [],
   "source": [
    "# constituent molecules\n",
    "molecules = [peo_polymer.molecule]\n",
    "#Polymer matrix settings\n",
    "matrix_config = [{\"number\": 1, \"inside box\":[0,0,0,100,100,100]}]"
   ]
  },
  {
   "cell_type": "markdown",
   "metadata": {},
   "source": [
    "# Use Packmol to pack the polymer chains into a box"
   ]
  },
  {
   "cell_type": "code",
   "execution_count": 6,
   "metadata": {
    "collapsed": false
   },
   "outputs": [
    {
     "name": "stdout",
     "output_type": "stream",
     "text": [
      "packed molecule written to poly_packed.xyz\n"
     ]
    }
   ],
   "source": [
    "pmr = PackmolRunner(molecules,\n",
    "                    matrix_config,\n",
    "                    tolerance=2.0,\n",
    "                    filetype=\"xyz\",\n",
    "                    control_params={\"nloop\": 1000},\n",
    "                    output_file=\"poly_packed.xyz\")\n",
    "packed_polymer = pmr.run()"
   ]
  },
  {
   "cell_type": "markdown",
   "metadata": {},
   "source": [
    "# Read in the force field parameters"
   ]
  },
  {
   "cell_type": "code",
   "execution_count": 7,
   "metadata": {
    "collapsed": false
   },
   "outputs": [],
   "source": [
    "from pymatgen.io.lammps.force_field import ForceField\n",
    "\n",
    "forcefield = ForceField.from_file(\"ff_data.yaml\")"
   ]
  },
  {
   "cell_type": "markdown",
   "metadata": {},
   "source": [
    "# Generate lammps data file from the topology and the forcefield"
   ]
  },
  {
   "cell_type": "code",
   "execution_count": 8,
   "metadata": {
    "collapsed": false
   },
   "outputs": [],
   "source": [
    "from pymatgen.io.lammps.data import LammpsForceFieldData\n",
    "\n",
    "mols_number = [mol_config[\"number\"] for mol_config in matrix_config]\n",
    "box_size = [[0.0, 100], \n",
    "            [0.0, 100], \n",
    "            [0.0, 100]]\n",
    "\n",
    "# list of molecular topologies for each constituent molecules\n",
    "topologies = [topology]*len(molecules)\n",
    "\n",
    "lammps_ff_data = LammpsForceFieldData.from_forcefield_and_topology(molecules, mols_number, \n",
    "                                                                   box_size, packed_polymer, \n",
    "                                                                   forcefield, topologies)\n",
    "#write the data file\n",
    "#lammps_ff_data.write_data_file(\"lammps_data.dat\")"
   ]
  },
  {
   "cell_type": "markdown",
   "metadata": {},
   "source": [
    "# Setup input file"
   ]
  },
  {
   "cell_type": "code",
   "execution_count": 9,
   "metadata": {
    "collapsed": false
   },
   "outputs": [
    {
     "name": "stdout",
     "output_type": "stream",
     "text": [
      "log  peo.log\n",
      "units  real\n",
      "dimension  3\n",
      "atom_style  full\n",
      "boundary  p p p\n",
      "neighbor  10.0 bin\n",
      "bond_style  harmonic\n",
      "angle_style  harmonic\n",
      "dihedral_style  opls\n",
      "read_data  peo.data\n",
      "pair_style  buck/coul/cut 15.0\n",
      "pair_coeff 1 1 2649.6 0.2674 27.22\n",
      "pair_coeff 1 2 4320.0 0.2928 137.6\n",
      "pair_coeff 1 3 14176.0 0.2563 104.0\n",
      "pair_coeff 2 2 14976.0 0.3236 637.6\n",
      "pair_coeff 2 3 33702.4 0.2796 503.0\n",
      "pair_coeff 3 3 75844.8 0.2461 396.9\n",
      "dump peodump all custom 50 peo.dump id type x y z ix iy iz mol\n",
      "dump traj all dcd 50 peo.dcd\n",
      "thermo_style  custom step time temp press pe ke etotal enthalpy fmax fnorm\n",
      "thermo  100\n",
      "fix  NPT all npt temp 300 300 100.0 iso 0 0 100.0\n",
      "run  1000\n",
      "\n"
     ]
    }
   ],
   "source": [
    "from pymatgen.io.lammps.input import DictLammpsInput\n",
    "\n",
    "job_name = \"NPT\"\n",
    "input_template_file = \"NPT.json\"\n",
    "input_filename = \"peo.in\"\n",
    "data_filename = \"peo.data\"\n",
    "log_filename = \"peo.log\"\n",
    "dump_filename = \"peo.dump\"\n",
    "dcd_traj_filename = \"peo.dcd\"\n",
    "dump_freq = 50\n",
    "T = [300, 300, 100.0] # start, end, damp\n",
    "P = [0, 0, 100.0]\n",
    "\n",
    "#override default settings read from the json file with these\n",
    "user_settings = {\"log\": log_filename,\n",
    "                 \"pair_style\": \"buck/coul/cut 15.0\", \n",
    "                 \"pair_coeff\": [\"1 1 2649.6 0.2674 27.22\",\n",
    "                                \"1 2 4320.0 0.2928 137.6\",\n",
    "                                \"1 3 14176.0 0.2563 104.0\",\n",
    "                                \"2 2 14976.0 0.3236 637.6\",\n",
    "                                \"2 3 33702.4 0.2796 503.0\",\n",
    "                                \"3 3 75844.8 0.2461 396.9\"],\n",
    "                 \"thermo_style\": \"custom step time temp press pe ke etotal enthalpy fmax fnorm\",\n",
    "                 \"fix\": \"NPT all npt temp {T[0]} {T[1]} {T[2]} iso {P[0]} {P[1]} {P[2]}\".format(T=T, P=P),\n",
    "                 \"dump\": [\"peodump all custom {} {} id type x y z ix iy iz mol\".format(dump_freq, dump_filename),\n",
    "                          \"traj all dcd {} {}\".format(dump_freq, dcd_traj_filename)]}\n",
    "\n",
    "lammps_input = DictLammpsInput.from_file(job_name, input_template_file, \n",
    "                                         lammps_data=lammps_ff_data, \n",
    "                                         data_filename=data_filename, \n",
    "                                         user_lammps_settings=user_settings)\n",
    "print str(lammps_input)"
   ]
  },
  {
   "cell_type": "markdown",
   "metadata": {},
   "source": [
    "# Run Lammps"
   ]
  },
  {
   "cell_type": "code",
   "execution_count": 10,
   "metadata": {
    "collapsed": false
   },
   "outputs": [
    {
     "name": "stdout",
     "output_type": "stream",
     "text": [
      "Data file: peo.data\n",
      "Input file: peo.in\n",
      "Running: lmp_serial -in peo.in\n",
      "Done\n",
      "LAMMPS (18 Jun 2016)\n",
      "Reading data file ...\n",
      "  orthogonal box = (0 0 0) to (100 100 100)\n",
      "  1 by 1 by 1 MPI processor grid\n",
      "  reading atoms ...\n",
      "  408 atoms\n",
      "  scanning bonds ...\n",
      "  4 = max bonds/atom\n",
      "  scanning angles ...\n",
      "  6 = max angles/atom\n",
      "  scanning dihedrals ...\n",
      "  9 = max dihedrals/atom\n",
      "  reading bonds ...\n",
      "  407 bonds\n",
      "  reading angles ...\n",
      "  754 angles\n",
      "  reading dihedrals ...\n",
      "  861 dihedrals\n",
      "Finding 1-2 1-3 1-4 neighbors ...\n",
      " Special bond factors lj:   0          0          0         \n",
      " Special bond factors coul: 0          0          0         \n",
      "  4 = max # of 1-2 neighbors\n",
      "  6 = max # of 1-3 neighbors\n",
      "  12 = max # of 1-4 neighbors\n",
      "  14 = max # of special neighbors\n",
      "Neighbor list info ...\n",
      "  1 neighbor list requests\n",
      "  update every 1 steps, delay 10 steps, check yes\n",
      "  max neighbors/atom: 2000, page size: 100000\n",
      "  master list distance cutoff = 25\n",
      "  ghost atom cutoff = 25\n",
      "  binsize = 12.5, bins = 8 8 8\n",
      "Setting up Verlet run ...\n",
      "  Unit style    : real\n",
      "  Current step  : 0\n",
      "  Time step     : 1\n",
      "Memory usage per processor = 12.3005 Mbytes\n",
      "Step Time Temp Press PotEng KinEng TotEng Enthalpy Fmax Fnorm \n",
      "       0            0            0   -350.57532     8297.723            0     8297.723    3184.9416    273.56053    2581.8336 \n",
      "     100          100    1909.7752    28.726181    1932.3557    2316.9195    4249.2753    4637.4748    226.11494    1664.9481 \n",
      "     200          200    874.94364    15.642151    1036.1063    1061.4726    2097.5789    2301.1132    192.02923    1290.6395 \n",
      "     300          300    544.71068   -9.0296546    556.13949    660.83738    1216.9769    1096.2998    168.08976    993.70043 \n",
      "     400          400    348.33302    6.7914558    388.16011    422.59403    810.75414    902.10651    144.44218    883.08171 \n",
      "     500          500    274.17207    6.3032212    260.72857    332.62273     593.3513    673.18352    114.59179    767.95984 \n",
      "     600          600    248.80257   -11.827885    228.30688    301.84472     530.1516    392.24558    96.049191    722.99462 \n",
      "     700          700    261.24213    6.0064021    232.17217    316.93626    549.10843    614.52956    113.22665    714.96394 \n",
      "     800          800    296.37265    4.1705904    270.20071    359.55625    629.75696    673.15368     138.7323    769.54132 \n",
      "     900          900    323.55814    2.9227895    290.27099     392.5374    682.80839    711.91015    103.12379    794.30645 \n",
      "    1000         1000    331.77722   -6.8690213     272.7681    402.50871    675.27681    604.30681    125.62203    809.59951 \n",
      "Loop time of 2.42103 on 1 procs for 1000 steps with 408 atoms\n",
      "\n",
      "Performance: 35.687 ns/day, 0.673 hours/ns, 413.047 timesteps/s\n",
      "99.9% CPU use with 1 MPI tasks x no OpenMP threads\n",
      "\n",
      "MPI task timing breakdown:\n",
      "Section |  min time  |  avg time  |  max time  |%varavg| %total\n",
      "---------------------------------------------------------------\n",
      "Pair    | 1.9299     | 1.9299     | 1.9299     |   0.0 | 79.71\n",
      "Bond    | 0.43997    | 0.43997    | 0.43997    |   0.0 | 18.17\n",
      "Neigh   | 0.0094523  | 0.0094523  | 0.0094523  |   0.0 |  0.39\n",
      "Comm    | 0.00043797 | 0.00043797 | 0.00043797 |   0.0 |  0.02\n",
      "Output  | 0.019819   | 0.019819   | 0.019819   |   0.0 |  0.82\n",
      "Modify  | 0.019466   | 0.019466   | 0.019466   |   0.0 |  0.80\n",
      "Other   |            | 0.001969   |            |       |  0.08\n",
      "\n",
      "Nlocal:    408 ave 408 max 408 min\n",
      "Histogram: 1 0 0 0 0 0 0 0 0 0\n",
      "Nghost:    6 ave 6 max 6 min\n",
      "Histogram: 1 0 0 0 0 0 0 0 0 0\n",
      "Neighs:    72370 ave 72370 max 72370 min\n",
      "Histogram: 1 0 0 0 0 0 0 0 0 0\n",
      "\n",
      "Total # of neighbors = 72370\n",
      "Ave neighs/atom = 177.377\n",
      "Ave special neighs/atom = 9.91176\n",
      "Neighbor list builds = 7\n",
      "Dangerous builds = 0\n",
      "Total wall time: 0:00:02\n",
      " \n"
     ]
    }
   ],
   "source": [
    "#brandon's binary\n",
    "#lammps_bin = 'mpiexec -n 2 lammps'\n",
    "\n",
    "# binary compiled with openmpi, from ubuntu repo\n",
    "#lammps_bin = 'lammps-daily'\n",
    "\n",
    "# serial binary, compiled from source\n",
    "lammps_bin = 'lmp_serial'\n",
    "\n",
    "lammps = LammpsRunner(lammps_input, input_filename=input_filename, bin=lammps_bin)\n",
    "lammps.run()"
   ]
  },
  {
   "cell_type": "markdown",
   "metadata": {},
   "source": [
    "# Post-processing"
   ]
  },
  {
   "cell_type": "code",
   "execution_count": 11,
   "metadata": {
    "collapsed": true
   },
   "outputs": [],
   "source": [
    "from pymatgen.io.lammps.output import LammpsRun\n",
    "from pymatgen_diffusion.aimd.van_hove import RadialDistributionFunction\n",
    "\n",
    "%matplotlib inline"
   ]
  },
  {
   "cell_type": "code",
   "execution_count": 12,
   "metadata": {
    "collapsed": true
   },
   "outputs": [],
   "source": [
    "lammpsrun = LammpsRun(data_filename, dump_filename, log_filename, is_forcefield=True)"
   ]
  },
  {
   "cell_type": "markdown",
   "metadata": {},
   "source": [
    "# Get diffusion statistics summary"
   ]
  },
  {
   "cell_type": "code",
   "execution_count": 13,
   "metadata": {
    "collapsed": false
   },
   "outputs": [
    {
     "data": {
      "text/plain": [
       "{u'D': 7.7584089283089976e-05,\n",
       " u'D_components': [8.766374333210014e-05,\n",
       "  6.449898511268146e-05,\n",
       "  8.05895394044884e-05],\n",
       " u'D_components_sigma': [6.850309985408479e-06,\n",
       "  7.188521527450217e-06,\n",
       "  6.325117585193328e-06],\n",
       " u'D_sigma': 4.3176788887985503e-06,\n",
       " u'S': 223.10383944566166,\n",
       " u'S_components': [252.08928658305973, 185.47580247389982, 231.7464292800256],\n",
       " u'S_components_sigma': [19.699019132144365,\n",
       "  20.67159346112854,\n",
       "  18.18875533942081],\n",
       " u'S_sigma': 12.416086165161584,\n",
       " u'max_framework_displacement': 5.9483204143014508,\n",
       " u'specie': 'C',\n",
       " u'step_skip': 50,\n",
       " u'temperature': 300,\n",
       " u'time_step': 1}"
      ]
     },
     "execution_count": 13,
     "metadata": {},
     "output_type": "execute_result"
    }
   ],
   "source": [
    "specie = \"C\"\n",
    "temperature = T[0]\n",
    "# Time step between measurements.\n",
    "time_step = 1 \n",
    "# Sampling frequency of the displacements \n",
    "#(time_step is multiplied by this number to get the real time between measurements)\n",
    "step_skip = dump_freq\n",
    "smoothed = None\n",
    "min_obs = 30\n",
    "avg_nsteps=1000\n",
    "\n",
    "diffusion_analyzer = lammpsrun.get_diffusion_analyzer(specie, temperature, time_step, \n",
    "                                                      step_skip, smoothed=smoothed, \n",
    "                                                      min_obs=min_obs, avg_nsteps=avg_nsteps)\n",
    "diffusion_analyzer.get_summary_dict()"
   ]
  },
  {
   "cell_type": "markdown",
   "metadata": {},
   "source": [
    "# Compute and plot RDF"
   ]
  },
  {
   "cell_type": "code",
   "execution_count": 14,
   "metadata": {
    "collapsed": false
   },
   "outputs": [
    {
     "data": {
      "image/png": "[encoded data removed]",
      "text/plain": [
       "<matplotlib.figure.Figure at 0x7fd51b156e50>"
      ]
     },
     "metadata": {},
     "output_type": "display_data"
    }
   ],
   "source": [
    "structure_list = [s for s in diffusion_analyzer.get_drift_corrected_structures()]\n",
    "\n",
    "species = [\"O\"]\n",
    "rdf = RadialDistributionFunction(structure_list, ngrid=101, rmax=10.0, cellrange=1, \n",
    "                                 sigma=0.1, species = species)\n",
    "plt = rdf.get_rdf_plot(label=\"RDF\")"
   ]
  },
  {
   "cell_type": "code",
   "execution_count": null,
   "metadata": {
    "collapsed": true
   },
   "outputs": [],
   "source": []
  }
 ],
 "metadata": {
  "kernelspec": {
   "display_name": "Python 2",
   "language": "python",
   "name": "python2"
  },
  "language_info": {
   "codemirror_mode": {
    "name": "ipython",
    "version": 2
   },
   "file_extension": ".py",
   "mimetype": "text/x-python",
   "name": "python",
   "nbconvert_exporter": "python",
   "pygments_lexer": "ipython2",
   "version": "2.7.6"
  }
 },
 "nbformat": 4,
 "nbformat_minor": 0
}
